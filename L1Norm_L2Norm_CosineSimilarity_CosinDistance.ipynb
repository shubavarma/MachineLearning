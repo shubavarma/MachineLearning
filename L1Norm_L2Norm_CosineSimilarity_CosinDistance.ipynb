{
 "cells": [
  {
   "cell_type": "markdown",
   "id": "9e8b05f0",
   "metadata": {},
   "source": [
    "# Using Numpy Linear Algebra Inbuilt functions"
   ]
  },
  {
   "cell_type": "code",
   "execution_count": 2,
   "id": "4f6af3d9",
   "metadata": {},
   "outputs": [],
   "source": [
    "import numpy as np"
   ]
  },
  {
   "cell_type": "code",
   "execution_count": 3,
   "id": "5629acae",
   "metadata": {},
   "outputs": [],
   "source": [
    "class Vectors:\n",
    "    def __init__(self,vector1,vector2):\n",
    "        self.vector1 = vector1\n",
    "        self.vector2 = vector2\n",
    "    def l1Norm(self):\n",
    "        norm_l1 = np.linalg.norm(self.vector1-self.vector2, ord = 1)\n",
    "        print(f\"L1Norm of Vectors 1 and 2 is : {norm_l1}\")\n",
    "    def l2Norm(self):\n",
    "        norm_l2 = np.linalg.norm(self.vector1-self.vector2, ord = 2)\n",
    "        print(f\"L2Norm of Vectors 1 and 2 is : {norm_l2}\")\n",
    "    def cosineSimilarity(self):\n",
    "        cSim = np.dot(self.vector1,self.vector2)/(np.linalg.norm(self.vector1)*np.linalg.norm(self.vector2))\n",
    "        print(f\"Cosine Similarity of Vectors 1 and 2 is : {cSim}\")\n",
    "    def cosineDistance(self):\n",
    "        cDist = 1 - (np.dot(self.vector1,self.vector2)/(np.linalg.norm(self.vector1)*np.linalg.norm(self.vector2)))\n",
    "        print(f\"Cosine Distance of Vectors 1 and 2 is : {cDist}\")"
   ]
  },
  {
   "cell_type": "code",
   "execution_count": 4,
   "id": "4b25314c",
   "metadata": {},
   "outputs": [],
   "source": [
    "First = Vectors(np.array([1,2,3]),np.array([-1,-2,-3]))"
   ]
  },
  {
   "cell_type": "code",
   "execution_count": 5,
   "id": "b6963102",
   "metadata": {},
   "outputs": [
    {
     "name": "stdout",
     "output_type": "stream",
     "text": [
      "L1Norm of Vectors 1 and 2 is : 12.0\n"
     ]
    }
   ],
   "source": [
    "First.l1Norm()"
   ]
  },
  {
   "cell_type": "code",
   "execution_count": 6,
   "id": "b514dc21",
   "metadata": {},
   "outputs": [
    {
     "name": "stdout",
     "output_type": "stream",
     "text": [
      "L2Norm of Vectors 1 and 2 is : 7.483314773547883\n"
     ]
    }
   ],
   "source": [
    "First.l2Norm()"
   ]
  },
  {
   "cell_type": "code",
   "execution_count": 7,
   "id": "c1a26f38",
   "metadata": {},
   "outputs": [
    {
     "name": "stdout",
     "output_type": "stream",
     "text": [
      "Cosine Similarity of Vectors 1 and 2 is : -1.0\n"
     ]
    }
   ],
   "source": [
    "First.cosineSimilarity()"
   ]
  },
  {
   "cell_type": "code",
   "execution_count": 8,
   "id": "d82f2c25",
   "metadata": {},
   "outputs": [
    {
     "name": "stdout",
     "output_type": "stream",
     "text": [
      "Cosine Distance of Vectors 1 and 2 is : 2.0\n"
     ]
    }
   ],
   "source": [
    "First.cosineDistance()"
   ]
  },
  {
   "cell_type": "code",
   "execution_count": null,
   "id": "dcf6695e",
   "metadata": {},
   "outputs": [],
   "source": []
  },
  {
   "cell_type": "markdown",
   "id": "29c5e4de",
   "metadata": {},
   "source": [
    "# Without using inbuilt function and using Functions"
   ]
  },
  {
   "cell_type": "code",
   "execution_count": 15,
   "id": "ccda757d",
   "metadata": {},
   "outputs": [],
   "source": [
    "def lpNorm(a,b,p):\n",
    "    l = [abs(i-j)**p for i,j in zip(a,b)]\n",
    "    ans = pow(sum(l),1/p)\n",
    "    return print(f\"L{p}Norm of Vectors 1 and 2 is : {ans}\")\n"
   ]
  },
  {
   "cell_type": "code",
   "execution_count": 16,
   "id": "9f83d4ef",
   "metadata": {},
   "outputs": [],
   "source": [
    "def dotProduct(a,b):\n",
    "    return (sum(i*j for i,j in zip(a,b)))"
   ]
  },
  {
   "cell_type": "code",
   "execution_count": 17,
   "id": "e03ea589",
   "metadata": {},
   "outputs": [],
   "source": [
    "def cosineMetrics(a,b):\n",
    "    cSim = dotProduct(a,b)/((dotProduct(a,a)**0.5)*(dotProduct(b,b)**0.5))\n",
    "    print(f\"Cosine Similarity of Vectors 1 and 2 is : {cSim}\")\n",
    "    cDist = 1-cSim\n",
    "    print(f\"Cosine Distance of Vectors 1 and 2 is : {cDist}\")\n"
   ]
  },
  {
   "cell_type": "code",
   "execution_count": 18,
   "id": "4ea762d9",
   "metadata": {},
   "outputs": [
    {
     "name": "stdout",
     "output_type": "stream",
     "text": [
      "L1Norm of Vectors 1 and 2 is : 12.0\n"
     ]
    }
   ],
   "source": [
    "lpNorm(np.array([1,2,3]),np.array([-1,-2,-3]),1)"
   ]
  },
  {
   "cell_type": "code",
   "execution_count": 19,
   "id": "1aecab33",
   "metadata": {},
   "outputs": [
    {
     "name": "stdout",
     "output_type": "stream",
     "text": [
      "L2Norm of Vectors 1 and 2 is : 7.483314773547883\n"
     ]
    }
   ],
   "source": [
    "lpNorm(np.array([1,2,3]),np.array([-1,-2,-3]),2)"
   ]
  },
  {
   "cell_type": "code",
   "execution_count": 20,
   "id": "bee053c7",
   "metadata": {},
   "outputs": [
    {
     "name": "stdout",
     "output_type": "stream",
     "text": [
      "Cosine Similarity of Vectors 1 and 2 is : -1.0\n",
      "Cosine Distance of Vectors 1 and 2 is : 2.0\n"
     ]
    }
   ],
   "source": [
    "cosineMetrics(np.array([1,2,3]),np.array([-1,-2,-3]))"
   ]
  },
  {
   "cell_type": "code",
   "execution_count": null,
   "id": "01ea534f",
   "metadata": {},
   "outputs": [],
   "source": []
  },
  {
   "cell_type": "markdown",
   "id": "5ec9f4d4",
   "metadata": {},
   "source": [
    "# Class without using Inbuilt function"
   ]
  },
  {
   "cell_type": "code",
   "execution_count": 56,
   "id": "eebd2c3e",
   "metadata": {},
   "outputs": [],
   "source": [
    "class Vectors_Simplified:\n",
    "    def __init__(self,v1,v2):\n",
    "        self.v1 = v1\n",
    "        self.v2 = v2\n",
    "    def lpNorm(self,p):\n",
    "        l = [abs(i-j)**p for i,j in zip(self.v1,self.v2)]\n",
    "        ans = pow(sum(l),1/p)\n",
    "        print(f\"L{p}Norm of Vectors 1 and 2 is : {ans}\")\n",
    "    def cosineMetrics(self):\n",
    "        cSim = (sum(i*j for i,j in zip(self.v1,self.v2)))/((sum(i**2 for i in self.v1)**0.5)*(sum(i**2 for i in self.v2)**0.5))\n",
    "        cDist = 1-cSim\n",
    "        print(f\"Cosine Similarity of Vectors 1 and 2 is : {cSim}\")\n",
    "        print(f\"Cosine Distance of Vectors 1 and 2 is : {cDist}\")          \n",
    "            "
   ]
  },
  {
   "cell_type": "code",
   "execution_count": 57,
   "id": "5ef6c9ee",
   "metadata": {},
   "outputs": [],
   "source": [
    "Second = Vectors_Simplified(np.array([1,2,3]),np.array([-1,-2,-3]))"
   ]
  },
  {
   "cell_type": "code",
   "execution_count": 58,
   "id": "982f1c44",
   "metadata": {
    "scrolled": true
   },
   "outputs": [
    {
     "name": "stdout",
     "output_type": "stream",
     "text": [
      "L1Norm of Vectors 1 and 2 is : 12.0\n"
     ]
    }
   ],
   "source": [
    "Second.lpNorm(1)"
   ]
  },
  {
   "cell_type": "code",
   "execution_count": 59,
   "id": "87881bbc",
   "metadata": {
    "scrolled": true
   },
   "outputs": [
    {
     "name": "stdout",
     "output_type": "stream",
     "text": [
      "L2Norm of Vectors 1 and 2 is : 7.483314773547883\n"
     ]
    }
   ],
   "source": [
    "Second.lpNorm(2)"
   ]
  },
  {
   "cell_type": "code",
   "execution_count": 60,
   "id": "4f072a6d",
   "metadata": {},
   "outputs": [
    {
     "name": "stdout",
     "output_type": "stream",
     "text": [
      "Cosine Similarity of Vectors 1 and 2 is : -1.0\n",
      "Cosine Distance of Vectors 1 and 2 is : 2.0\n"
     ]
    }
   ],
   "source": [
    "Second.cosineMetrics()"
   ]
  },
  {
   "cell_type": "code",
   "execution_count": null,
   "id": "8a5bea66",
   "metadata": {},
   "outputs": [],
   "source": []
  }
 ],
 "metadata": {
  "kernelspec": {
   "display_name": "Python 3 (ipykernel)",
   "language": "python",
   "name": "python3"
  },
  "language_info": {
   "codemirror_mode": {
    "name": "ipython",
    "version": 3
   },
   "file_extension": ".py",
   "mimetype": "text/x-python",
   "name": "python",
   "nbconvert_exporter": "python",
   "pygments_lexer": "ipython3",
   "version": "3.9.13"
  }
 },
 "nbformat": 4,
 "nbformat_minor": 5
}
