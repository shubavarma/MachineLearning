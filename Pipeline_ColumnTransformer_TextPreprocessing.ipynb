{
 "cells": [
  {
   "cell_type": "code",
   "execution_count": 110,
   "id": "f5969583",
   "metadata": {},
   "outputs": [],
   "source": [
    "import pandas as pd\n",
    "import re\n",
    "import nltk\n",
    "from sklearn.pipeline import Pipeline\n",
    "from sklearn.feature_extraction.text import TfidfVectorizer\n",
    "from sklearn.preprocessing import FunctionTransformer\n"
   ]
  },
  {
   "cell_type": "code",
   "execution_count": 111,
   "id": "110e5927",
   "metadata": {},
   "outputs": [],
   "source": [
    "# Define Custom Functions for each step\n",
    "\n",
    "# Covert to Lower case\n",
    "def lowerCase(text):\n",
    "    #return text.lower()\n",
    "    return text.str.lower()\n",
    "\n",
    "# Remove html tags\n",
    "def removeHtmlTags(text):\n",
    "    return text.apply(lambda x:re.sub(r'<.*?>',\"\",x))\n",
    "\n",
    "# Remove Urls\n",
    "def removeUrls(text):\n",
    "    return text.apply(lambda x:re.sub(r'https?://\\S+|www\\.S\\+',\"\",x))\n",
    "\n",
    "# Remove NewLine \n",
    "def handleNewLine(text):\n",
    "    return text.apply(lambda x:re.sub(r'\\n',' ',x))\n",
    "\n",
    "# Remove Special Characters\n",
    "def removeSpecialChars(text):\n",
    "    return text.apply(lambda x:re.sub(r'[^0-1a-zA-Z]',' ',x))\n",
    "\n",
    "# Remove Stopwords\n",
    "def removeStopwords(text):\n",
    "    import nltk\n",
    "    from nltk.corpus import stopwords\n",
    "    nltk.download('stopwords')\n",
    "    stop_words = set(stopwords.words('english'))\n",
    "\n",
    "    return text.apply(lambda x: ' '.join([word for word in x.split() if word.lower() not in stop_words]))\n",
    "\n",
    "# Remove Empty strings\n",
    "\n",
    "\n",
    "# Stemming\n",
    "def stemTokens(text):\n",
    "    from nltk.stem import SnowballStemmer\n",
    "    snowballStemmer = SnowballStemmer('english')\n",
    "    \n",
    "    return text.apply(lambda x: ' '.join([snowballStemmer.stem(word) for word in x.split() if word != \" \"]))\n",
    "\n",
    "\n",
    "# Lemmetization\n",
    "def lemTokens(text):\n",
    "    nltk.download('wordnet')\n",
    "    nltk.download('omw-1.4')\n",
    "    from nltk.stem import WordNetLemmatizer\n",
    "    lem = WordNetLemmatizer()\n",
    " \n",
    "    return text.apply(lambda x: ' '.join([lem.lemmatize(word) for word in x.split() if word != \" \"]))\n",
    "\n",
    "\n",
    "\n"
   ]
  },
  {
   "cell_type": "code",
   "execution_count": 112,
   "id": "c540c37f",
   "metadata": {},
   "outputs": [
    {
     "data": {
      "text/html": [
       "<div>\n",
       "<style scoped>\n",
       "    .dataframe tbody tr th:only-of-type {\n",
       "        vertical-align: middle;\n",
       "    }\n",
       "\n",
       "    .dataframe tbody tr th {\n",
       "        vertical-align: top;\n",
       "    }\n",
       "\n",
       "    .dataframe thead th {\n",
       "        text-align: right;\n",
       "    }\n",
       "</style>\n",
       "<table border=\"1\" class=\"dataframe\">\n",
       "  <thead>\n",
       "    <tr style=\"text-align: right;\">\n",
       "      <th></th>\n",
       "      <th>Unnamed: 0</th>\n",
       "      <th>Title</th>\n",
       "      <th>Location</th>\n",
       "      <th>reviewees</th>\n",
       "      <th>reviewers</th>\n",
       "      <th>reviews</th>\n",
       "      <th>ratings</th>\n",
       "    </tr>\n",
       "  </thead>\n",
       "  <tbody>\n",
       "    <tr>\n",
       "      <th>0</th>\n",
       "      <td>0</td>\n",
       "      <td>UFO  'Futuro styled Flying Saucer'!</td>\n",
       "      <td>Planes for Rent in Redberth, United Kingdom</td>\n",
       "      <td>Toby</td>\n",
       "      <td>Taya</td>\n",
       "      <td>Toby's listing is wonderful and unique. He was...</td>\n",
       "      <td>5</td>\n",
       "    </tr>\n",
       "    <tr>\n",
       "      <th>1</th>\n",
       "      <td>1</td>\n",
       "      <td>UFO  'Futuro styled Flying Saucer'!</td>\n",
       "      <td>Planes for Rent in Redberth, United Kingdom</td>\n",
       "      <td>Toby</td>\n",
       "      <td>Philip Anthony</td>\n",
       "      <td>Amazing location. The attention to detail on t...</td>\n",
       "      <td>5</td>\n",
       "    </tr>\n",
       "    <tr>\n",
       "      <th>2</th>\n",
       "      <td>2</td>\n",
       "      <td>UFO  'Futuro styled Flying Saucer'!</td>\n",
       "      <td>Planes for Rent in Redberth, United Kingdom</td>\n",
       "      <td>Toby</td>\n",
       "      <td>Vanessa</td>\n",
       "      <td>Great unique 'space' to stay. All facilities a...</td>\n",
       "      <td>5</td>\n",
       "    </tr>\n",
       "    <tr>\n",
       "      <th>3</th>\n",
       "      <td>3</td>\n",
       "      <td>UFO  'Futuro styled Flying Saucer'!</td>\n",
       "      <td>Planes for Rent in Redberth, United Kingdom</td>\n",
       "      <td>Toby</td>\n",
       "      <td>Louise</td>\n",
       "      <td>Booke the ufo as a surprise 50th birthday brea...</td>\n",
       "      <td>5</td>\n",
       "    </tr>\n",
       "    <tr>\n",
       "      <th>4</th>\n",
       "      <td>4</td>\n",
       "      <td>UFO  'Futuro styled Flying Saucer'!</td>\n",
       "      <td>Planes for Rent in Redberth, United Kingdom</td>\n",
       "      <td>Toby</td>\n",
       "      <td>Wayne</td>\n",
       "      <td>It's so unusual there is no comparison. Comple...</td>\n",
       "      <td>5</td>\n",
       "    </tr>\n",
       "    <tr>\n",
       "      <th>...</th>\n",
       "      <td>...</td>\n",
       "      <td>...</td>\n",
       "      <td>...</td>\n",
       "      <td>...</td>\n",
       "      <td>...</td>\n",
       "      <td>...</td>\n",
       "      <td>...</td>\n",
       "    </tr>\n",
       "    <tr>\n",
       "      <th>8676</th>\n",
       "      <td>8676</td>\n",
       "      <td>Three log cabins with WC and Sauna and Treehouse</td>\n",
       "      <td>Huts for Rent in Llanwddyn, United Kingdom</td>\n",
       "      <td>Stuart</td>\n",
       "      <td>Sarah</td>\n",
       "      <td>.</td>\n",
       "      <td>5</td>\n",
       "    </tr>\n",
       "    <tr>\n",
       "      <th>8677</th>\n",
       "      <td>8677</td>\n",
       "      <td>Three log cabins with WC and Sauna and Treehouse</td>\n",
       "      <td>Huts for Rent in Llanwddyn, United Kingdom</td>\n",
       "      <td>Stuart</td>\n",
       "      <td>Joanna</td>\n",
       "      <td>Witam serdecznie, chciałbym podzielić się swoi...</td>\n",
       "      <td>5</td>\n",
       "    </tr>\n",
       "    <tr>\n",
       "      <th>8678</th>\n",
       "      <td>8678</td>\n",
       "      <td>Three log cabins with WC and Sauna and Treehouse</td>\n",
       "      <td>Huts for Rent in Llanwddyn, United Kingdom</td>\n",
       "      <td>Stuart</td>\n",
       "      <td>Jeroen</td>\n",
       "      <td>We hebben een geweldig verblijf gehad bij Stua...</td>\n",
       "      <td>5</td>\n",
       "    </tr>\n",
       "    <tr>\n",
       "      <th>8679</th>\n",
       "      <td>8679</td>\n",
       "      <td>Three log cabins with WC and Sauna and Treehouse</td>\n",
       "      <td>Huts for Rent in Llanwddyn, United Kingdom</td>\n",
       "      <td>Stuart</td>\n",
       "      <td>Frank</td>\n",
       "      <td>Warm onthaal, een magische plaats met veel lie...</td>\n",
       "      <td>5</td>\n",
       "    </tr>\n",
       "    <tr>\n",
       "      <th>8680</th>\n",
       "      <td>8680</td>\n",
       "      <td>Three log cabins with WC and Sauna and Treehouse</td>\n",
       "      <td>Huts for Rent in Llanwddyn, United Kingdom</td>\n",
       "      <td>Stuart</td>\n",
       "      <td>Charles</td>\n",
       "      <td>Stuart a été très accueillant, nous avons bien...</td>\n",
       "      <td>5</td>\n",
       "    </tr>\n",
       "  </tbody>\n",
       "</table>\n",
       "<p>8681 rows × 7 columns</p>\n",
       "</div>"
      ],
      "text/plain": [
       "      Unnamed: 0                                             Title  \\\n",
       "0              0               UFO  'Futuro styled Flying Saucer'!   \n",
       "1              1               UFO  'Futuro styled Flying Saucer'!   \n",
       "2              2               UFO  'Futuro styled Flying Saucer'!   \n",
       "3              3               UFO  'Futuro styled Flying Saucer'!   \n",
       "4              4               UFO  'Futuro styled Flying Saucer'!   \n",
       "...          ...                                               ...   \n",
       "8676        8676  Three log cabins with WC and Sauna and Treehouse   \n",
       "8677        8677  Three log cabins with WC and Sauna and Treehouse   \n",
       "8678        8678  Three log cabins with WC and Sauna and Treehouse   \n",
       "8679        8679  Three log cabins with WC and Sauna and Treehouse   \n",
       "8680        8680  Three log cabins with WC and Sauna and Treehouse   \n",
       "\n",
       "                                           Location reviewees       reviewers  \\\n",
       "0      Planes for Rent in Redberth, United Kingdom       Toby            Taya   \n",
       "1      Planes for Rent in Redberth, United Kingdom       Toby  Philip Anthony   \n",
       "2      Planes for Rent in Redberth, United Kingdom       Toby         Vanessa   \n",
       "3      Planes for Rent in Redberth, United Kingdom       Toby          Louise   \n",
       "4      Planes for Rent in Redberth, United Kingdom       Toby           Wayne   \n",
       "...                                             ...       ...             ...   \n",
       "8676    Huts for Rent in Llanwddyn, United Kingdom     Stuart           Sarah   \n",
       "8677    Huts for Rent in Llanwddyn, United Kingdom     Stuart          Joanna   \n",
       "8678    Huts for Rent in Llanwddyn, United Kingdom     Stuart          Jeroen   \n",
       "8679    Huts for Rent in Llanwddyn, United Kingdom     Stuart           Frank   \n",
       "8680    Huts for Rent in Llanwddyn, United Kingdom     Stuart         Charles   \n",
       "\n",
       "                                                reviews  ratings  \n",
       "0     Toby's listing is wonderful and unique. He was...        5  \n",
       "1     Amazing location. The attention to detail on t...        5  \n",
       "2     Great unique 'space' to stay. All facilities a...        5  \n",
       "3     Booke the ufo as a surprise 50th birthday brea...        5  \n",
       "4     It's so unusual there is no comparison. Comple...        5  \n",
       "...                                                 ...      ...  \n",
       "8676                                                  .        5  \n",
       "8677  Witam serdecznie, chciałbym podzielić się swoi...        5  \n",
       "8678  We hebben een geweldig verblijf gehad bij Stua...        5  \n",
       "8679  Warm onthaal, een magische plaats met veel lie...        5  \n",
       "8680  Stuart a été très accueillant, nous avons bien...        5  \n",
       "\n",
       "[8681 rows x 7 columns]"
      ]
     },
     "execution_count": 112,
     "metadata": {},
     "output_type": "execute_result"
    }
   ],
   "source": [
    "df = pd.read_csv(\"Airbnb.csv\")\n",
    "df"
   ]
  },
  {
   "cell_type": "code",
   "execution_count": 113,
   "id": "7c4b713f",
   "metadata": {},
   "outputs": [
    {
     "data": {
      "text/html": [
       "<div>\n",
       "<style scoped>\n",
       "    .dataframe tbody tr th:only-of-type {\n",
       "        vertical-align: middle;\n",
       "    }\n",
       "\n",
       "    .dataframe tbody tr th {\n",
       "        vertical-align: top;\n",
       "    }\n",
       "\n",
       "    .dataframe thead th {\n",
       "        text-align: right;\n",
       "    }\n",
       "</style>\n",
       "<table border=\"1\" class=\"dataframe\">\n",
       "  <thead>\n",
       "    <tr style=\"text-align: right;\">\n",
       "      <th></th>\n",
       "      <th>Title</th>\n",
       "      <th>Location</th>\n",
       "      <th>reviewees</th>\n",
       "      <th>reviewers</th>\n",
       "      <th>reviews</th>\n",
       "      <th>ratings</th>\n",
       "    </tr>\n",
       "  </thead>\n",
       "  <tbody>\n",
       "    <tr>\n",
       "      <th>0</th>\n",
       "      <td>UFO  'Futuro styled Flying Saucer'!</td>\n",
       "      <td>Planes for Rent in Redberth, United Kingdom</td>\n",
       "      <td>Toby</td>\n",
       "      <td>Taya</td>\n",
       "      <td>Toby's listing is wonderful and unique. He was...</td>\n",
       "      <td>5</td>\n",
       "    </tr>\n",
       "    <tr>\n",
       "      <th>1</th>\n",
       "      <td>UFO  'Futuro styled Flying Saucer'!</td>\n",
       "      <td>Planes for Rent in Redberth, United Kingdom</td>\n",
       "      <td>Toby</td>\n",
       "      <td>Philip Anthony</td>\n",
       "      <td>Amazing location. The attention to detail on t...</td>\n",
       "      <td>5</td>\n",
       "    </tr>\n",
       "    <tr>\n",
       "      <th>2</th>\n",
       "      <td>UFO  'Futuro styled Flying Saucer'!</td>\n",
       "      <td>Planes for Rent in Redberth, United Kingdom</td>\n",
       "      <td>Toby</td>\n",
       "      <td>Vanessa</td>\n",
       "      <td>Great unique 'space' to stay. All facilities a...</td>\n",
       "      <td>5</td>\n",
       "    </tr>\n",
       "    <tr>\n",
       "      <th>3</th>\n",
       "      <td>UFO  'Futuro styled Flying Saucer'!</td>\n",
       "      <td>Planes for Rent in Redberth, United Kingdom</td>\n",
       "      <td>Toby</td>\n",
       "      <td>Louise</td>\n",
       "      <td>Booke the ufo as a surprise 50th birthday brea...</td>\n",
       "      <td>5</td>\n",
       "    </tr>\n",
       "    <tr>\n",
       "      <th>4</th>\n",
       "      <td>UFO  'Futuro styled Flying Saucer'!</td>\n",
       "      <td>Planes for Rent in Redberth, United Kingdom</td>\n",
       "      <td>Toby</td>\n",
       "      <td>Wayne</td>\n",
       "      <td>It's so unusual there is no comparison. Comple...</td>\n",
       "      <td>5</td>\n",
       "    </tr>\n",
       "  </tbody>\n",
       "</table>\n",
       "</div>"
      ],
      "text/plain": [
       "                                 Title  \\\n",
       "0  UFO  'Futuro styled Flying Saucer'!   \n",
       "1  UFO  'Futuro styled Flying Saucer'!   \n",
       "2  UFO  'Futuro styled Flying Saucer'!   \n",
       "3  UFO  'Futuro styled Flying Saucer'!   \n",
       "4  UFO  'Futuro styled Flying Saucer'!   \n",
       "\n",
       "                                        Location reviewees       reviewers  \\\n",
       "0   Planes for Rent in Redberth, United Kingdom       Toby            Taya   \n",
       "1   Planes for Rent in Redberth, United Kingdom       Toby  Philip Anthony   \n",
       "2   Planes for Rent in Redberth, United Kingdom       Toby         Vanessa   \n",
       "3   Planes for Rent in Redberth, United Kingdom       Toby          Louise   \n",
       "4   Planes for Rent in Redberth, United Kingdom       Toby           Wayne   \n",
       "\n",
       "                                             reviews  ratings  \n",
       "0  Toby's listing is wonderful and unique. He was...        5  \n",
       "1  Amazing location. The attention to detail on t...        5  \n",
       "2  Great unique 'space' to stay. All facilities a...        5  \n",
       "3  Booke the ufo as a surprise 50th birthday brea...        5  \n",
       "4  It's so unusual there is no comparison. Comple...        5  "
      ]
     },
     "execution_count": 113,
     "metadata": {},
     "output_type": "execute_result"
    }
   ],
   "source": [
    "df.drop(columns = ['Unnamed: 0'],inplace=True)\n",
    "df.dropna(inplace=True)\n",
    "df.head()"
   ]
  },
  {
   "cell_type": "code",
   "execution_count": 114,
   "id": "92fe2ece",
   "metadata": {},
   "outputs": [],
   "source": [
    "# Create pipeline\n",
    "pipeline = Pipeline([\n",
    "    ('lowerCase', FunctionTransformer(lowerCase)),\n",
    "    ('removeHtmlTags', FunctionTransformer(removeHtmlTags)),\n",
    "    ('removeUrls', FunctionTransformer(removeUrls)),\n",
    "    ('handleNewLine', FunctionTransformer(handleNewLine)),\n",
    "    ('removeSpecialChars', FunctionTransformer(removeSpecialChars)),\n",
    "    ('removeStopwords', FunctionTransformer(removeStopwords)),\n",
    "    ('lemTokens', FunctionTransformer(lemTokens)),\n",
    "    ('vectorize', TfidfVectorizer())\n",
    "])\n"
   ]
  },
  {
   "cell_type": "code",
   "execution_count": 115,
   "id": "e4f21747",
   "metadata": {},
   "outputs": [],
   "source": [
    "from sklearn.linear_model import LogisticRegression\n",
    "from sklearn.metrics import accuracy_score as acs\n",
    "from sklearn.metrics import confusion_matrix\n",
    "from sklearn.model_selection import train_test_split"
   ]
  },
  {
   "cell_type": "code",
   "execution_count": 116,
   "id": "fcd6892c",
   "metadata": {},
   "outputs": [],
   "source": [
    "# Recognize predictor or Input and target or output varibles for Machine learning\n",
    "X = df['reviews']\n",
    "y = df['ratings']"
   ]
  },
  {
   "cell_type": "code",
   "execution_count": 117,
   "id": "97bb483d",
   "metadata": {},
   "outputs": [
    {
     "name": "stderr",
     "output_type": "stream",
     "text": [
      "[nltk_data] Downloading package stopwords to\n",
      "[nltk_data]     C:\\Users\\Kishore\\AppData\\Roaming\\nltk_data...\n",
      "[nltk_data]   Package stopwords is already up-to-date!\n",
      "[nltk_data] Downloading package wordnet to\n",
      "[nltk_data]     C:\\Users\\Kishore\\AppData\\Roaming\\nltk_data...\n",
      "[nltk_data]   Package wordnet is already up-to-date!\n",
      "[nltk_data] Downloading package omw-1.4 to\n",
      "[nltk_data]     C:\\Users\\Kishore\\AppData\\Roaming\\nltk_data...\n",
      "[nltk_data]   Package omw-1.4 is already up-to-date!\n"
     ]
    }
   ],
   "source": [
    "X_transformed = pipeline.fit_transform(X)"
   ]
  },
  {
   "cell_type": "code",
   "execution_count": 118,
   "id": "2306a72f",
   "metadata": {},
   "outputs": [
    {
     "data": {
      "text/plain": [
       "<8680x9909 sparse matrix of type '<class 'numpy.float64'>'\n",
       "\twith 179173 stored elements in Compressed Sparse Row format>"
      ]
     },
     "execution_count": 118,
     "metadata": {},
     "output_type": "execute_result"
    }
   ],
   "source": [
    "X_transformed"
   ]
  },
  {
   "cell_type": "code",
   "execution_count": 119,
   "id": "9cf621d1",
   "metadata": {},
   "outputs": [],
   "source": [
    "#  split x & y in to xTrain, xTest, yTrain, yTest\n",
    "# if we pass 2 arrays we get train & test of the first array, then train & test of the second array\n",
    "# randome_state parameter in test_train_split is simillar to random_seed parameter in random function\n",
    "from sklearn.model_selection import train_test_split\n",
    "xTrain, xTest, yTrain, yTest = train_test_split(X_transformed,y,\n",
    "                                                test_size= 0.32)"
   ]
  },
  {
   "cell_type": "code",
   "execution_count": 120,
   "id": "4b46049a",
   "metadata": {},
   "outputs": [
    {
     "data": {
      "text/plain": [
       "((5902, 9909), (2778, 9909), 5902, 2778)"
      ]
     },
     "execution_count": 120,
     "metadata": {},
     "output_type": "execute_result"
    }
   ],
   "source": [
    "# check if input variable train and test has same size as target variable\n",
    "# the rows have to be same for us to proceed\n",
    "xTrain.shape, xTest.shape, len(yTrain), len(yTest)"
   ]
  },
  {
   "cell_type": "markdown",
   "id": "5fd859ab",
   "metadata": {},
   "source": [
    "# Logistic Regression"
   ]
  },
  {
   "cell_type": "code",
   "execution_count": 121,
   "id": "10a6e403",
   "metadata": {},
   "outputs": [],
   "source": [
    "lr = LogisticRegression()"
   ]
  },
  {
   "cell_type": "code",
   "execution_count": 122,
   "id": "a7c48ed8",
   "metadata": {},
   "outputs": [
    {
     "data": {
      "text/plain": [
       "LogisticRegression()"
      ]
     },
     "execution_count": 122,
     "metadata": {},
     "output_type": "execute_result"
    }
   ],
   "source": [
    "lr.fit(xTrain,yTrain)"
   ]
  },
  {
   "cell_type": "code",
   "execution_count": 123,
   "id": "e9d397c7",
   "metadata": {},
   "outputs": [],
   "source": [
    "yTrain_pred = lr.predict(xTrain)\n",
    "yTest_pred = lr.predict(xTest)"
   ]
  },
  {
   "cell_type": "code",
   "execution_count": 124,
   "id": "d1216de9",
   "metadata": {},
   "outputs": [
    {
     "data": {
      "text/plain": [
       "0.8592002710945442"
      ]
     },
     "execution_count": 124,
     "metadata": {},
     "output_type": "execute_result"
    }
   ],
   "source": [
    "acs(yTrain,yTrain_pred)"
   ]
  },
  {
   "cell_type": "code",
   "execution_count": 125,
   "id": "e133c419",
   "metadata": {},
   "outputs": [
    {
     "data": {
      "text/plain": [
       "array([[   7,    0,    0,    0,    0,    1],\n",
       "       [   0,    0,    0,    0,    4,   26],\n",
       "       [   0,    0,    0,    0,   12,   34],\n",
       "       [   0,    0,    0,   26,   34,  118],\n",
       "       [   0,    0,    0,    0,  216,  594],\n",
       "       [   0,    0,    0,    0,    8, 4822]], dtype=int64)"
      ]
     },
     "execution_count": 125,
     "metadata": {},
     "output_type": "execute_result"
    }
   ],
   "source": [
    "confusion_matrix(yTrain,yTrain_pred)"
   ]
  },
  {
   "cell_type": "code",
   "execution_count": 129,
   "id": "59a049e1",
   "metadata": {},
   "outputs": [
    {
     "data": {
      "text/plain": [
       "5    4830\n",
       "4     810\n",
       "3     178\n",
       "2      46\n",
       "1      30\n",
       "0       8\n",
       "Name: ratings, dtype: int64"
      ]
     },
     "execution_count": 129,
     "metadata": {},
     "output_type": "execute_result"
    }
   ],
   "source": [
    "yTrain.value_counts()"
   ]
  },
  {
   "cell_type": "code",
   "execution_count": 126,
   "id": "9a49e4f9",
   "metadata": {},
   "outputs": [
    {
     "data": {
      "text/plain": [
       "0.8138948884089273"
      ]
     },
     "execution_count": 126,
     "metadata": {},
     "output_type": "execute_result"
    }
   ],
   "source": [
    "acs(yTest,yTest_pred)"
   ]
  },
  {
   "cell_type": "code",
   "execution_count": 127,
   "id": "8905db15",
   "metadata": {},
   "outputs": [
    {
     "data": {
      "text/plain": [
       "array([[   3,    0,    0,    0,    0,    0],\n",
       "       [   0,    0,    0,    1,    3,   15],\n",
       "       [   0,    0,    0,    0,    7,   10],\n",
       "       [   0,    0,    0,    1,   25,   61],\n",
       "       [   0,    0,    0,    0,   38,  371],\n",
       "       [   0,    0,    0,    0,   24, 2219]], dtype=int64)"
      ]
     },
     "execution_count": 127,
     "metadata": {},
     "output_type": "execute_result"
    }
   ],
   "source": [
    "confusion_matrix(yTest,yTest_pred)"
   ]
  },
  {
   "cell_type": "code",
   "execution_count": 130,
   "id": "c5414cc0",
   "metadata": {},
   "outputs": [
    {
     "data": {
      "text/plain": [
       "5    2243\n",
       "4     409\n",
       "3      87\n",
       "1      19\n",
       "2      17\n",
       "0       3\n",
       "Name: ratings, dtype: int64"
      ]
     },
     "execution_count": 130,
     "metadata": {},
     "output_type": "execute_result"
    }
   ],
   "source": [
    "yTest.value_counts()"
   ]
  },
  {
   "cell_type": "code",
   "execution_count": 128,
   "id": "faa173d0",
   "metadata": {},
   "outputs": [],
   "source": [
    "# The predictions are pretty good"
   ]
  }
 ],
 "metadata": {
  "kernelspec": {
   "display_name": "Python 3 (ipykernel)",
   "language": "python",
   "name": "python3"
  },
  "language_info": {
   "codemirror_mode": {
    "name": "ipython",
    "version": 3
   },
   "file_extension": ".py",
   "mimetype": "text/x-python",
   "name": "python",
   "nbconvert_exporter": "python",
   "pygments_lexer": "ipython3",
   "version": "3.9.13"
  }
 },
 "nbformat": 4,
 "nbformat_minor": 5
}
