{
 "cells": [
  {
   "cell_type": "code",
   "execution_count": 25,
   "metadata": {
    "id": "yACbNM2l0qdd"
   },
   "outputs": [],
   "source": [
    "import numpy as np, pandas as pd, seaborn as sns, sklearn"
   ]
  },
  {
   "cell_type": "code",
   "execution_count": null,
   "metadata": {
    "id": "_954US8H0s4m"
   },
   "outputs": [],
   "source": []
  },
  {
   "cell_type": "code",
   "execution_count": 26,
   "metadata": {
    "colab": {
     "base_uri": "https://localhost:8080/"
    },
    "id": "pQZa03100s7c",
    "outputId": "759974ac-b267-43f7-d86d-b41f01168dc1"
   },
   "outputs": [
    {
     "data": {
      "text/plain": [
       "Index(['survived', 'pclass', 'sex', 'age', 'sibsp', 'parch', 'fare',\n",
       "       'embarked', 'class', 'who', 'adult_male', 'deck', 'embark_town',\n",
       "       'alive', 'alone'],\n",
       "      dtype='object')"
      ]
     },
     "execution_count": 26,
     "metadata": {},
     "output_type": "execute_result"
    }
   ],
   "source": [
    "df = sns.load_dataset('titanic')\n",
    "df.columns"
   ]
  },
  {
   "cell_type": "code",
   "execution_count": 27,
   "metadata": {
    "colab": {
     "base_uri": "https://localhost:8080/",
     "height": 143
    },
    "id": "4b5pggq30s-D",
    "outputId": "5f9f72b8-1e54-40be-ff6b-383fd5424b38"
   },
   "outputs": [
    {
     "data": {
      "text/html": [
       "<div>\n",
       "<style scoped>\n",
       "    .dataframe tbody tr th:only-of-type {\n",
       "        vertical-align: middle;\n",
       "    }\n",
       "\n",
       "    .dataframe tbody tr th {\n",
       "        vertical-align: top;\n",
       "    }\n",
       "\n",
       "    .dataframe thead th {\n",
       "        text-align: right;\n",
       "    }\n",
       "</style>\n",
       "<table border=\"1\" class=\"dataframe\">\n",
       "  <thead>\n",
       "    <tr style=\"text-align: right;\">\n",
       "      <th></th>\n",
       "      <th>survived</th>\n",
       "      <th>pclass</th>\n",
       "      <th>sex</th>\n",
       "      <th>age</th>\n",
       "      <th>sibsp</th>\n",
       "      <th>parch</th>\n",
       "      <th>fare</th>\n",
       "      <th>embarked</th>\n",
       "    </tr>\n",
       "  </thead>\n",
       "  <tbody>\n",
       "    <tr>\n",
       "      <th>574</th>\n",
       "      <td>0</td>\n",
       "      <td>3</td>\n",
       "      <td>male</td>\n",
       "      <td>16.0</td>\n",
       "      <td>0</td>\n",
       "      <td>0</td>\n",
       "      <td>8.050</td>\n",
       "      <td>S</td>\n",
       "    </tr>\n",
       "    <tr>\n",
       "      <th>244</th>\n",
       "      <td>0</td>\n",
       "      <td>3</td>\n",
       "      <td>male</td>\n",
       "      <td>30.0</td>\n",
       "      <td>0</td>\n",
       "      <td>0</td>\n",
       "      <td>7.225</td>\n",
       "      <td>C</td>\n",
       "    </tr>\n",
       "    <tr>\n",
       "      <th>449</th>\n",
       "      <td>1</td>\n",
       "      <td>1</td>\n",
       "      <td>male</td>\n",
       "      <td>52.0</td>\n",
       "      <td>0</td>\n",
       "      <td>0</td>\n",
       "      <td>30.500</td>\n",
       "      <td>S</td>\n",
       "    </tr>\n",
       "  </tbody>\n",
       "</table>\n",
       "</div>"
      ],
      "text/plain": [
       "     survived  pclass   sex   age  sibsp  parch    fare embarked\n",
       "574         0       3  male  16.0      0      0   8.050        S\n",
       "244         0       3  male  30.0      0      0   7.225        C\n",
       "449         1       1  male  52.0      0      0  30.500        S"
      ]
     },
     "execution_count": 27,
     "metadata": {},
     "output_type": "execute_result"
    }
   ],
   "source": [
    "df = df[['survived', 'pclass', 'sex', 'age', 'sibsp', 'parch', 'fare',\n",
    "       'embarked']]\n",
    "df.sample(3)"
   ]
  },
  {
   "cell_type": "code",
   "execution_count": 28,
   "metadata": {
    "colab": {
     "base_uri": "https://localhost:8080/"
    },
    "id": "WcuXqFwW0tBS",
    "outputId": "bff26725-a49c-4d4d-e69a-540a7d0e21c9"
   },
   "outputs": [
    {
     "data": {
      "text/plain": [
       "survived      0\n",
       "pclass        0\n",
       "sex           0\n",
       "age         177\n",
       "sibsp         0\n",
       "parch         0\n",
       "fare          0\n",
       "embarked      2\n",
       "dtype: int64"
      ]
     },
     "execution_count": 28,
     "metadata": {},
     "output_type": "execute_result"
    }
   ],
   "source": [
    "df.isnull().sum()"
   ]
  },
  {
   "cell_type": "code",
   "execution_count": 29,
   "metadata": {
    "id": "OwiE1ij60tED"
   },
   "outputs": [],
   "source": [
    "from sklearn.model_selection import train_test_split \n",
    "\n",
    "X, y = df.drop(columns = 'survived'), df['survived']\n",
    "\n",
    "xTrain, xTest, yTrain, yTest = train_test_split(X,y,\n",
    "                                                test_size = 0.32,\n",
    "                                                random_state = 23)"
   ]
  },
  {
   "cell_type": "code",
   "execution_count": 30,
   "metadata": {
    "colab": {
     "base_uri": "https://localhost:8080/"
    },
    "id": "MLkFb7uk0tG2",
    "outputId": "e8bde454-e018-4912-be6e-605dc3be891b"
   },
   "outputs": [
    {
     "data": {
      "text/plain": [
       "((605, 7), (286, 7), 605, 286)"
      ]
     },
     "execution_count": 30,
     "metadata": {},
     "output_type": "execute_result"
    }
   ],
   "source": [
    "xTrain.shape, xTest.shape, len(yTrain), len(yTest)"
   ]
  },
  {
   "cell_type": "code",
   "execution_count": null,
   "metadata": {
    "id": "inh9REO20tJ_"
   },
   "outputs": [],
   "source": []
  },
  {
   "cell_type": "code",
   "execution_count": 31,
   "metadata": {
    "id": "InIt_N2v0tNE"
   },
   "outputs": [],
   "source": [
    "contCols = ['age', 'fare']\n",
    "nominalCols = ['sex', 'embarked']"
   ]
  },
  {
   "cell_type": "code",
   "execution_count": null,
   "metadata": {
    "id": "jHCfbfKj0tPW"
   },
   "outputs": [],
   "source": []
  },
  {
   "cell_type": "code",
   "execution_count": 32,
   "metadata": {
    "id": "haBAbizJ0tSO"
   },
   "outputs": [],
   "source": [
    "from sklearn.pipeline import Pipeline\n",
    "from sklearn.compose import ColumnTransformer"
   ]
  },
  {
   "cell_type": "code",
   "execution_count": 33,
   "metadata": {
    "id": "8hwq_KM20tVQ"
   },
   "outputs": [],
   "source": [
    "# pipeline for handling cont data\n",
    "\n",
    "# we know there are missing values in age\n",
    "# we also know the distributions of these cols are not normal\n",
    "\n",
    "from sklearn.impute import SimpleImputer\n",
    "from sklearn.preprocessing import StandardScaler, PowerTransformer\n",
    "\n",
    "contPipeline = Pipeline(steps = [\n",
    "    ('impute',SimpleImputer(strategy = ('median'))),\n",
    "    ('yeoJohnsonTransformation', PowerTransformer()),\n",
    "    ('scaler', StandardScaler()) \n",
    "])"
   ]
  },
  {
   "cell_type": "code",
   "execution_count": 34,
   "metadata": {
    "id": "S5slkL0x0tYG"
   },
   "outputs": [],
   "source": [
    "# Pipeline for handling categorical cols\n",
    "\n",
    "# we knew there are missing values in embarked\n",
    "# we will be using one hot encoding to transform these nominal categorical data\n",
    "\n",
    "from sklearn.preprocessing import OneHotEncoder\n",
    "\n",
    "catPipeline = Pipeline(steps = [\n",
    "    ('impute',SimpleImputer(strategy = ('most_frequent'))),\n",
    "    ('oneHotEncoding', OneHotEncoder( sparse_output=False, handle_unknown='ignore'))\n",
    "])"
   ]
  },
  {
   "cell_type": "code",
   "execution_count": null,
   "metadata": {
    "id": "aQGZYsv80tbT"
   },
   "outputs": [],
   "source": []
  },
  {
   "cell_type": "code",
   "execution_count": 35,
   "metadata": {
    "id": "FkuWrN1D0tey"
   },
   "outputs": [],
   "source": [
    "# we shall use column transformer to run these two pipelines parallely\n",
    "\n",
    "preprocessor = ColumnTransformer(transformers = [\n",
    "    ('contDataPipeLine', contPipeline, contCols),\n",
    "    ('catNominalDataPipeLine', catPipeline, nominalCols)\n",
    "    \n",
    "],\n",
    "remainder = 'passthrough')"
   ]
  },
  {
   "cell_type": "code",
   "execution_count": null,
   "metadata": {
    "id": "k77CgUhd_Ts9"
   },
   "outputs": [],
   "source": []
  },
  {
   "cell_type": "code",
   "execution_count": 36,
   "metadata": {
    "id": "5Unz8ump_Tpr"
   },
   "outputs": [],
   "source": [
    "# we will create another pipeline which acts as an final pipeline with estimator\n",
    "\n",
    "from sklearn.tree import DecisionTreeClassifier\n",
    "\n",
    "dtc = DecisionTreeClassifier()\n",
    "\n",
    "dtcPipeline = Pipeline(steps = [\n",
    "    ('preprocessor', preprocessor),\n",
    "    ('dtcModel', dtc)\n",
    "])"
   ]
  },
  {
   "cell_type": "code",
   "execution_count": null,
   "metadata": {
    "id": "d5TdUJrd_TmR"
   },
   "outputs": [],
   "source": []
  },
  {
   "cell_type": "code",
   "execution_count": 37,
   "metadata": {
    "colab": {
     "base_uri": "https://localhost:8080/",
     "height": 268
    },
    "id": "Ub-YGLk-_Tjr",
    "outputId": "b286864c-28d2-4478-9f9b-53e25c924f91"
   },
   "outputs": [
    {
     "data": {
      "text/html": [
       "<style>#sk-container-id-3 {color: black;background-color: white;}#sk-container-id-3 pre{padding: 0;}#sk-container-id-3 div.sk-toggleable {background-color: white;}#sk-container-id-3 label.sk-toggleable__label {cursor: pointer;display: block;width: 100%;margin-bottom: 0;padding: 0.3em;box-sizing: border-box;text-align: center;}#sk-container-id-3 label.sk-toggleable__label-arrow:before {content: \"▸\";float: left;margin-right: 0.25em;color: #696969;}#sk-container-id-3 label.sk-toggleable__label-arrow:hover:before {color: black;}#sk-container-id-3 div.sk-estimator:hover label.sk-toggleable__label-arrow:before {color: black;}#sk-container-id-3 div.sk-toggleable__content {max-height: 0;max-width: 0;overflow: hidden;text-align: left;background-color: #f0f8ff;}#sk-container-id-3 div.sk-toggleable__content pre {margin: 0.2em;color: black;border-radius: 0.25em;background-color: #f0f8ff;}#sk-container-id-3 input.sk-toggleable__control:checked~div.sk-toggleable__content {max-height: 200px;max-width: 100%;overflow: auto;}#sk-container-id-3 input.sk-toggleable__control:checked~label.sk-toggleable__label-arrow:before {content: \"▾\";}#sk-container-id-3 div.sk-estimator input.sk-toggleable__control:checked~label.sk-toggleable__label {background-color: #d4ebff;}#sk-container-id-3 div.sk-label input.sk-toggleable__control:checked~label.sk-toggleable__label {background-color: #d4ebff;}#sk-container-id-3 input.sk-hidden--visually {border: 0;clip: rect(1px 1px 1px 1px);clip: rect(1px, 1px, 1px, 1px);height: 1px;margin: -1px;overflow: hidden;padding: 0;position: absolute;width: 1px;}#sk-container-id-3 div.sk-estimator {font-family: monospace;background-color: #f0f8ff;border: 1px dotted black;border-radius: 0.25em;box-sizing: border-box;margin-bottom: 0.5em;}#sk-container-id-3 div.sk-estimator:hover {background-color: #d4ebff;}#sk-container-id-3 div.sk-parallel-item::after {content: \"\";width: 100%;border-bottom: 1px solid gray;flex-grow: 1;}#sk-container-id-3 div.sk-label:hover label.sk-toggleable__label {background-color: #d4ebff;}#sk-container-id-3 div.sk-serial::before {content: \"\";position: absolute;border-left: 1px solid gray;box-sizing: border-box;top: 0;bottom: 0;left: 50%;z-index: 0;}#sk-container-id-3 div.sk-serial {display: flex;flex-direction: column;align-items: center;background-color: white;padding-right: 0.2em;padding-left: 0.2em;position: relative;}#sk-container-id-3 div.sk-item {position: relative;z-index: 1;}#sk-container-id-3 div.sk-parallel {display: flex;align-items: stretch;justify-content: center;background-color: white;position: relative;}#sk-container-id-3 div.sk-item::before, #sk-container-id-3 div.sk-parallel-item::before {content: \"\";position: absolute;border-left: 1px solid gray;box-sizing: border-box;top: 0;bottom: 0;left: 50%;z-index: -1;}#sk-container-id-3 div.sk-parallel-item {display: flex;flex-direction: column;z-index: 1;position: relative;background-color: white;}#sk-container-id-3 div.sk-parallel-item:first-child::after {align-self: flex-end;width: 50%;}#sk-container-id-3 div.sk-parallel-item:last-child::after {align-self: flex-start;width: 50%;}#sk-container-id-3 div.sk-parallel-item:only-child::after {width: 0;}#sk-container-id-3 div.sk-dashed-wrapped {border: 1px dashed gray;margin: 0 0.4em 0.5em 0.4em;box-sizing: border-box;padding-bottom: 0.4em;background-color: white;}#sk-container-id-3 div.sk-label label {font-family: monospace;font-weight: bold;display: inline-block;line-height: 1.2em;}#sk-container-id-3 div.sk-label-container {text-align: center;}#sk-container-id-3 div.sk-container {/* jupyter's `normalize.less` sets `[hidden] { display: none; }` but bootstrap.min.css set `[hidden] { display: none !important; }` so we also need the `!important` here to be able to override the default hidden behavior on the sphinx rendered scikit-learn.org. See: https://github.com/scikit-learn/scikit-learn/issues/21755 */display: inline-block !important;position: relative;}#sk-container-id-3 div.sk-text-repr-fallback {display: none;}</style><div id=\"sk-container-id-3\" class=\"sk-top-container\"><div class=\"sk-text-repr-fallback\"><pre>Pipeline(steps=[(&#x27;preprocessor&#x27;,\n",
       "                 ColumnTransformer(remainder=&#x27;passthrough&#x27;,\n",
       "                                   transformers=[(&#x27;contDataPipeLine&#x27;,\n",
       "                                                  Pipeline(steps=[(&#x27;impute&#x27;,\n",
       "                                                                   SimpleImputer(strategy=&#x27;median&#x27;)),\n",
       "                                                                  (&#x27;yeoJohnsonTransformation&#x27;,\n",
       "                                                                   PowerTransformer()),\n",
       "                                                                  (&#x27;scaler&#x27;,\n",
       "                                                                   StandardScaler())]),\n",
       "                                                  [&#x27;age&#x27;, &#x27;fare&#x27;]),\n",
       "                                                 (&#x27;catNominalDataPipeLine&#x27;,\n",
       "                                                  Pipeline(steps=[(&#x27;impute&#x27;,\n",
       "                                                                   SimpleImputer(strategy=&#x27;most_frequent&#x27;)),\n",
       "                                                                  (&#x27;oneHotEncoding&#x27;,\n",
       "                                                                   OneHotEncoder(handle_unknown=&#x27;ignore&#x27;,\n",
       "                                                                                 sparse_output=False))]),\n",
       "                                                  [&#x27;sex&#x27;, &#x27;embarked&#x27;])])),\n",
       "                (&#x27;dtcModel&#x27;, DecisionTreeClassifier())])</pre><b>In a Jupyter environment, please rerun this cell to show the HTML representation or trust the notebook. <br />On GitHub, the HTML representation is unable to render, please try loading this page with nbviewer.org.</b></div><div class=\"sk-container\" hidden><div class=\"sk-item sk-dashed-wrapped\"><div class=\"sk-label-container\"><div class=\"sk-label sk-toggleable\"><input class=\"sk-toggleable__control sk-hidden--visually\" id=\"sk-estimator-id-26\" type=\"checkbox\" ><label for=\"sk-estimator-id-26\" class=\"sk-toggleable__label sk-toggleable__label-arrow\">Pipeline</label><div class=\"sk-toggleable__content\"><pre>Pipeline(steps=[(&#x27;preprocessor&#x27;,\n",
       "                 ColumnTransformer(remainder=&#x27;passthrough&#x27;,\n",
       "                                   transformers=[(&#x27;contDataPipeLine&#x27;,\n",
       "                                                  Pipeline(steps=[(&#x27;impute&#x27;,\n",
       "                                                                   SimpleImputer(strategy=&#x27;median&#x27;)),\n",
       "                                                                  (&#x27;yeoJohnsonTransformation&#x27;,\n",
       "                                                                   PowerTransformer()),\n",
       "                                                                  (&#x27;scaler&#x27;,\n",
       "                                                                   StandardScaler())]),\n",
       "                                                  [&#x27;age&#x27;, &#x27;fare&#x27;]),\n",
       "                                                 (&#x27;catNominalDataPipeLine&#x27;,\n",
       "                                                  Pipeline(steps=[(&#x27;impute&#x27;,\n",
       "                                                                   SimpleImputer(strategy=&#x27;most_frequent&#x27;)),\n",
       "                                                                  (&#x27;oneHotEncoding&#x27;,\n",
       "                                                                   OneHotEncoder(handle_unknown=&#x27;ignore&#x27;,\n",
       "                                                                                 sparse_output=False))]),\n",
       "                                                  [&#x27;sex&#x27;, &#x27;embarked&#x27;])])),\n",
       "                (&#x27;dtcModel&#x27;, DecisionTreeClassifier())])</pre></div></div></div><div class=\"sk-serial\"><div class=\"sk-item sk-dashed-wrapped\"><div class=\"sk-label-container\"><div class=\"sk-label sk-toggleable\"><input class=\"sk-toggleable__control sk-hidden--visually\" id=\"sk-estimator-id-27\" type=\"checkbox\" ><label for=\"sk-estimator-id-27\" class=\"sk-toggleable__label sk-toggleable__label-arrow\">preprocessor: ColumnTransformer</label><div class=\"sk-toggleable__content\"><pre>ColumnTransformer(remainder=&#x27;passthrough&#x27;,\n",
       "                  transformers=[(&#x27;contDataPipeLine&#x27;,\n",
       "                                 Pipeline(steps=[(&#x27;impute&#x27;,\n",
       "                                                  SimpleImputer(strategy=&#x27;median&#x27;)),\n",
       "                                                 (&#x27;yeoJohnsonTransformation&#x27;,\n",
       "                                                  PowerTransformer()),\n",
       "                                                 (&#x27;scaler&#x27;, StandardScaler())]),\n",
       "                                 [&#x27;age&#x27;, &#x27;fare&#x27;]),\n",
       "                                (&#x27;catNominalDataPipeLine&#x27;,\n",
       "                                 Pipeline(steps=[(&#x27;impute&#x27;,\n",
       "                                                  SimpleImputer(strategy=&#x27;most_frequent&#x27;)),\n",
       "                                                 (&#x27;oneHotEncoding&#x27;,\n",
       "                                                  OneHotEncoder(handle_unknown=&#x27;ignore&#x27;,\n",
       "                                                                sparse_output=False))]),\n",
       "                                 [&#x27;sex&#x27;, &#x27;embarked&#x27;])])</pre></div></div></div><div class=\"sk-parallel\"><div class=\"sk-parallel-item\"><div class=\"sk-item\"><div class=\"sk-label-container\"><div class=\"sk-label sk-toggleable\"><input class=\"sk-toggleable__control sk-hidden--visually\" id=\"sk-estimator-id-28\" type=\"checkbox\" ><label for=\"sk-estimator-id-28\" class=\"sk-toggleable__label sk-toggleable__label-arrow\">contDataPipeLine</label><div class=\"sk-toggleable__content\"><pre>[&#x27;age&#x27;, &#x27;fare&#x27;]</pre></div></div></div><div class=\"sk-serial\"><div class=\"sk-item\"><div class=\"sk-serial\"><div class=\"sk-item\"><div class=\"sk-estimator sk-toggleable\"><input class=\"sk-toggleable__control sk-hidden--visually\" id=\"sk-estimator-id-29\" type=\"checkbox\" ><label for=\"sk-estimator-id-29\" class=\"sk-toggleable__label sk-toggleable__label-arrow\">SimpleImputer</label><div class=\"sk-toggleable__content\"><pre>SimpleImputer(strategy=&#x27;median&#x27;)</pre></div></div></div><div class=\"sk-item\"><div class=\"sk-estimator sk-toggleable\"><input class=\"sk-toggleable__control sk-hidden--visually\" id=\"sk-estimator-id-30\" type=\"checkbox\" ><label for=\"sk-estimator-id-30\" class=\"sk-toggleable__label sk-toggleable__label-arrow\">PowerTransformer</label><div class=\"sk-toggleable__content\"><pre>PowerTransformer()</pre></div></div></div><div class=\"sk-item\"><div class=\"sk-estimator sk-toggleable\"><input class=\"sk-toggleable__control sk-hidden--visually\" id=\"sk-estimator-id-31\" type=\"checkbox\" ><label for=\"sk-estimator-id-31\" class=\"sk-toggleable__label sk-toggleable__label-arrow\">StandardScaler</label><div class=\"sk-toggleable__content\"><pre>StandardScaler()</pre></div></div></div></div></div></div></div></div><div class=\"sk-parallel-item\"><div class=\"sk-item\"><div class=\"sk-label-container\"><div class=\"sk-label sk-toggleable\"><input class=\"sk-toggleable__control sk-hidden--visually\" id=\"sk-estimator-id-32\" type=\"checkbox\" ><label for=\"sk-estimator-id-32\" class=\"sk-toggleable__label sk-toggleable__label-arrow\">catNominalDataPipeLine</label><div class=\"sk-toggleable__content\"><pre>[&#x27;sex&#x27;, &#x27;embarked&#x27;]</pre></div></div></div><div class=\"sk-serial\"><div class=\"sk-item\"><div class=\"sk-serial\"><div class=\"sk-item\"><div class=\"sk-estimator sk-toggleable\"><input class=\"sk-toggleable__control sk-hidden--visually\" id=\"sk-estimator-id-33\" type=\"checkbox\" ><label for=\"sk-estimator-id-33\" class=\"sk-toggleable__label sk-toggleable__label-arrow\">SimpleImputer</label><div class=\"sk-toggleable__content\"><pre>SimpleImputer(strategy=&#x27;most_frequent&#x27;)</pre></div></div></div><div class=\"sk-item\"><div class=\"sk-estimator sk-toggleable\"><input class=\"sk-toggleable__control sk-hidden--visually\" id=\"sk-estimator-id-34\" type=\"checkbox\" ><label for=\"sk-estimator-id-34\" class=\"sk-toggleable__label sk-toggleable__label-arrow\">OneHotEncoder</label><div class=\"sk-toggleable__content\"><pre>OneHotEncoder(handle_unknown=&#x27;ignore&#x27;, sparse_output=False)</pre></div></div></div></div></div></div></div></div><div class=\"sk-parallel-item\"><div class=\"sk-item\"><div class=\"sk-label-container\"><div class=\"sk-label sk-toggleable\"><input class=\"sk-toggleable__control sk-hidden--visually\" id=\"sk-estimator-id-35\" type=\"checkbox\" ><label for=\"sk-estimator-id-35\" class=\"sk-toggleable__label sk-toggleable__label-arrow\">remainder</label><div class=\"sk-toggleable__content\"><pre>[&#x27;pclass&#x27;, &#x27;sibsp&#x27;, &#x27;parch&#x27;]</pre></div></div></div><div class=\"sk-serial\"><div class=\"sk-item\"><div class=\"sk-estimator sk-toggleable\"><input class=\"sk-toggleable__control sk-hidden--visually\" id=\"sk-estimator-id-36\" type=\"checkbox\" ><label for=\"sk-estimator-id-36\" class=\"sk-toggleable__label sk-toggleable__label-arrow\">passthrough</label><div class=\"sk-toggleable__content\"><pre>passthrough</pre></div></div></div></div></div></div></div></div><div class=\"sk-item\"><div class=\"sk-estimator sk-toggleable\"><input class=\"sk-toggleable__control sk-hidden--visually\" id=\"sk-estimator-id-37\" type=\"checkbox\" ><label for=\"sk-estimator-id-37\" class=\"sk-toggleable__label sk-toggleable__label-arrow\">DecisionTreeClassifier</label><div class=\"sk-toggleable__content\"><pre>DecisionTreeClassifier()</pre></div></div></div></div></div></div></div>"
      ],
      "text/plain": [
       "Pipeline(steps=[('preprocessor',\n",
       "                 ColumnTransformer(remainder='passthrough',\n",
       "                                   transformers=[('contDataPipeLine',\n",
       "                                                  Pipeline(steps=[('impute',\n",
       "                                                                   SimpleImputer(strategy='median')),\n",
       "                                                                  ('yeoJohnsonTransformation',\n",
       "                                                                   PowerTransformer()),\n",
       "                                                                  ('scaler',\n",
       "                                                                   StandardScaler())]),\n",
       "                                                  ['age', 'fare']),\n",
       "                                                 ('catNominalDataPipeLine',\n",
       "                                                  Pipeline(steps=[('impute',\n",
       "                                                                   SimpleImputer(strategy='most_frequent')),\n",
       "                                                                  ('oneHotEncoding',\n",
       "                                                                   OneHotEncoder(handle_unknown='ignore',\n",
       "                                                                                 sparse_output=False))]),\n",
       "                                                  ['sex', 'embarked'])])),\n",
       "                ('dtcModel', DecisionTreeClassifier())])"
      ]
     },
     "execution_count": 37,
     "metadata": {},
     "output_type": "execute_result"
    }
   ],
   "source": [
    "dtcPipeline.fit(xTrain, yTrain)"
   ]
  },
  {
   "cell_type": "code",
   "execution_count": 38,
   "metadata": {
    "id": "j72Ta7zY_Tgh"
   },
   "outputs": [],
   "source": [
    "from sklearn.metrics import accuracy_score, confusion_matrix"
   ]
  },
  {
   "cell_type": "code",
   "execution_count": 15,
   "metadata": {
    "colab": {
     "base_uri": "https://localhost:8080/"
    },
    "id": "kkcXJodb_Td0",
    "outputId": "b3bfd18e-04a6-4229-f2dd-d0c378d11406"
   },
   "outputs": [
    {
     "data": {
      "text/plain": [
       "0.9818181818181818"
      ]
     },
     "execution_count": 15,
     "metadata": {},
     "output_type": "execute_result"
    }
   ],
   "source": [
    "yTrainPred = dtcPipeline.predict(xTrain)\n",
    "accuracy_score(yTrain, yTrainPred)"
   ]
  },
  {
   "cell_type": "code",
   "execution_count": 16,
   "metadata": {
    "colab": {
     "base_uri": "https://localhost:8080/"
    },
    "id": "7SEJizGo_Ta4",
    "outputId": "781e85b7-6f09-4afc-d19c-396ecb153376"
   },
   "outputs": [
    {
     "data": {
      "text/plain": [
       "0.7832167832167832"
      ]
     },
     "execution_count": 16,
     "metadata": {},
     "output_type": "execute_result"
    }
   ],
   "source": [
    "yTestPred = dtcPipeline.predict(xTest)\n",
    "accuracy_score(yTest, yTestPred)"
   ]
  },
  {
   "cell_type": "code",
   "execution_count": null,
   "metadata": {
    "id": "nR_UFVx-CtA4"
   },
   "outputs": [],
   "source": []
  },
  {
   "cell_type": "code",
   "execution_count": 17,
   "metadata": {
    "colab": {
     "base_uri": "https://localhost:8080/",
     "height": 35
    },
    "id": "yKhYmZYKCs-C",
    "outputId": "1fba983c-002f-4a39-c5db-1fdb506d7f1d"
   },
   "outputs": [
    {
     "data": {
      "text/plain": [
       "'\\nimport matplotlib.pyplot as plt\\nplt.figure(figsize = (15,15))\\nsklearn.tree.plot_tree(dtc)\\n'"
      ]
     },
     "execution_count": 17,
     "metadata": {},
     "output_type": "execute_result"
    }
   ],
   "source": [
    "# the overfitting might be a resultant of letting the tree grow to its max depth.\n",
    "'''\n",
    "import matplotlib.pyplot as plt\n",
    "plt.figure(figsize = (15,15))\n",
    "sklearn.tree.plot_tree(dtc)\n",
    "'''"
   ]
  },
  {
   "cell_type": "code",
   "execution_count": 39,
   "metadata": {
    "id": "ahsPIXf3Cs7Y"
   },
   "outputs": [],
   "source": [
    "from sklearn.preprocessing import StandardScaler, RobustScaler, MinMaxScaler"
   ]
  },
  {
   "cell_type": "code",
   "execution_count": 54,
   "metadata": {
    "id": "EzcMMHbyCs4k"
   },
   "outputs": [],
   "source": [
    "# we can use our final pipeline to perform k-fold cros validation using grid search\n",
    "\n",
    "from sklearn.model_selection import GridSearchCV \n",
    "\n",
    "\n",
    "# We will mention all the hyperparameters we want to tune\n",
    "# We can also see what the best approach is like scaling\n",
    "hyperParametersGrid =  {'dtcModel__criterion':['gini', 'entropy', 'log_loss'],\n",
    "                        'dtcModel__max_depth' : np.arange(2,11),\n",
    "                        'preprocessor__contDataPipeLine__scaler':[StandardScaler(),RobustScaler(),MinMaxScaler()],\n",
    "                        'preprocessor__catNominalDataPipeLine__oneHotEncoding__drop':[None, 'first']} # model's name in the pipeline followed by two(2) '_'(underscores) and hyperparmetername\n",
    "\n",
    "\n",
    "# We can mention what scoring to use for best performance\n",
    "gsDtc = GridSearchCV(dtcPipeline,\n",
    "                     hyperParametersGrid,\n",
    "                     cv = 15,\n",
    "                     scoring = 'f1'\n",
    "                     )"
   ]
  },
  {
   "cell_type": "code",
   "execution_count": 55,
   "metadata": {},
   "outputs": [],
   "source": [
    "# preprocessor__catNominalDataPipeLine__oneHotEncoding__drop here if we want to tune it we will access using __ (double underscore)"
   ]
  },
  {
   "cell_type": "code",
   "execution_count": 57,
   "metadata": {
    "colab": {
     "base_uri": "https://localhost:8080/",
     "height": 282
    },
    "id": "edT-9Yf4Cs1q",
    "outputId": "a250628b-e60b-44e1-a9e3-b8bd70382879",
    "scrolled": true
   },
   "outputs": [
    {
     "data": {
      "text/html": [
       "<style>#sk-container-id-7 {color: black;background-color: white;}#sk-container-id-7 pre{padding: 0;}#sk-container-id-7 div.sk-toggleable {background-color: white;}#sk-container-id-7 label.sk-toggleable__label {cursor: pointer;display: block;width: 100%;margin-bottom: 0;padding: 0.3em;box-sizing: border-box;text-align: center;}#sk-container-id-7 label.sk-toggleable__label-arrow:before {content: \"▸\";float: left;margin-right: 0.25em;color: #696969;}#sk-container-id-7 label.sk-toggleable__label-arrow:hover:before {color: black;}#sk-container-id-7 div.sk-estimator:hover label.sk-toggleable__label-arrow:before {color: black;}#sk-container-id-7 div.sk-toggleable__content {max-height: 0;max-width: 0;overflow: hidden;text-align: left;background-color: #f0f8ff;}#sk-container-id-7 div.sk-toggleable__content pre {margin: 0.2em;color: black;border-radius: 0.25em;background-color: #f0f8ff;}#sk-container-id-7 input.sk-toggleable__control:checked~div.sk-toggleable__content {max-height: 200px;max-width: 100%;overflow: auto;}#sk-container-id-7 input.sk-toggleable__control:checked~label.sk-toggleable__label-arrow:before {content: \"▾\";}#sk-container-id-7 div.sk-estimator input.sk-toggleable__control:checked~label.sk-toggleable__label {background-color: #d4ebff;}#sk-container-id-7 div.sk-label input.sk-toggleable__control:checked~label.sk-toggleable__label {background-color: #d4ebff;}#sk-container-id-7 input.sk-hidden--visually {border: 0;clip: rect(1px 1px 1px 1px);clip: rect(1px, 1px, 1px, 1px);height: 1px;margin: -1px;overflow: hidden;padding: 0;position: absolute;width: 1px;}#sk-container-id-7 div.sk-estimator {font-family: monospace;background-color: #f0f8ff;border: 1px dotted black;border-radius: 0.25em;box-sizing: border-box;margin-bottom: 0.5em;}#sk-container-id-7 div.sk-estimator:hover {background-color: #d4ebff;}#sk-container-id-7 div.sk-parallel-item::after {content: \"\";width: 100%;border-bottom: 1px solid gray;flex-grow: 1;}#sk-container-id-7 div.sk-label:hover label.sk-toggleable__label {background-color: #d4ebff;}#sk-container-id-7 div.sk-serial::before {content: \"\";position: absolute;border-left: 1px solid gray;box-sizing: border-box;top: 0;bottom: 0;left: 50%;z-index: 0;}#sk-container-id-7 div.sk-serial {display: flex;flex-direction: column;align-items: center;background-color: white;padding-right: 0.2em;padding-left: 0.2em;position: relative;}#sk-container-id-7 div.sk-item {position: relative;z-index: 1;}#sk-container-id-7 div.sk-parallel {display: flex;align-items: stretch;justify-content: center;background-color: white;position: relative;}#sk-container-id-7 div.sk-item::before, #sk-container-id-7 div.sk-parallel-item::before {content: \"\";position: absolute;border-left: 1px solid gray;box-sizing: border-box;top: 0;bottom: 0;left: 50%;z-index: -1;}#sk-container-id-7 div.sk-parallel-item {display: flex;flex-direction: column;z-index: 1;position: relative;background-color: white;}#sk-container-id-7 div.sk-parallel-item:first-child::after {align-self: flex-end;width: 50%;}#sk-container-id-7 div.sk-parallel-item:last-child::after {align-self: flex-start;width: 50%;}#sk-container-id-7 div.sk-parallel-item:only-child::after {width: 0;}#sk-container-id-7 div.sk-dashed-wrapped {border: 1px dashed gray;margin: 0 0.4em 0.5em 0.4em;box-sizing: border-box;padding-bottom: 0.4em;background-color: white;}#sk-container-id-7 div.sk-label label {font-family: monospace;font-weight: bold;display: inline-block;line-height: 1.2em;}#sk-container-id-7 div.sk-label-container {text-align: center;}#sk-container-id-7 div.sk-container {/* jupyter's `normalize.less` sets `[hidden] { display: none; }` but bootstrap.min.css set `[hidden] { display: none !important; }` so we also need the `!important` here to be able to override the default hidden behavior on the sphinx rendered scikit-learn.org. See: https://github.com/scikit-learn/scikit-learn/issues/21755 */display: inline-block !important;position: relative;}#sk-container-id-7 div.sk-text-repr-fallback {display: none;}</style><div id=\"sk-container-id-7\" class=\"sk-top-container\"><div class=\"sk-text-repr-fallback\"><pre>GridSearchCV(cv=15,\n",
       "             estimator=Pipeline(steps=[(&#x27;preprocessor&#x27;,\n",
       "                                        ColumnTransformer(remainder=&#x27;passthrough&#x27;,\n",
       "                                                          transformers=[(&#x27;contDataPipeLine&#x27;,\n",
       "                                                                         Pipeline(steps=[(&#x27;impute&#x27;,\n",
       "                                                                                          SimpleImputer(strategy=&#x27;median&#x27;)),\n",
       "                                                                                         (&#x27;yeoJohnsonTransformation&#x27;,\n",
       "                                                                                          PowerTransformer()),\n",
       "                                                                                         (&#x27;scaler&#x27;,\n",
       "                                                                                          StandardScaler())]),\n",
       "                                                                         [&#x27;age&#x27;,\n",
       "                                                                          &#x27;fare&#x27;]),\n",
       "                                                                        (&#x27;catNominalDataPipeLine&#x27;,\n",
       "                                                                         Pipeline(steps=[(&#x27;impute&#x27;,\n",
       "                                                                                          SimpleI...\n",
       "                                                                          &#x27;embarked&#x27;])])),\n",
       "                                       (&#x27;dtcModel&#x27;, DecisionTreeClassifier())]),\n",
       "             param_grid={&#x27;dtcModel__criterion&#x27;: [&#x27;gini&#x27;, &#x27;entropy&#x27;, &#x27;log_loss&#x27;],\n",
       "                         &#x27;dtcModel__max_depth&#x27;: array([ 2,  3,  4,  5,  6,  7,  8,  9, 10]),\n",
       "                         &#x27;preprocessor__catNominalDataPipeLine__oneHotEncoding__drop&#x27;: [None,\n",
       "                                                                                        &#x27;first&#x27;],\n",
       "                         &#x27;preprocessor__contDataPipeLine__scaler&#x27;: [StandardScaler(),\n",
       "                                                                    RobustScaler(),\n",
       "                                                                    MinMaxScaler()]},\n",
       "             scoring=&#x27;f1&#x27;)</pre><b>In a Jupyter environment, please rerun this cell to show the HTML representation or trust the notebook. <br />On GitHub, the HTML representation is unable to render, please try loading this page with nbviewer.org.</b></div><div class=\"sk-container\" hidden><div class=\"sk-item sk-dashed-wrapped\"><div class=\"sk-label-container\"><div class=\"sk-label sk-toggleable\"><input class=\"sk-toggleable__control sk-hidden--visually\" id=\"sk-estimator-id-77\" type=\"checkbox\" ><label for=\"sk-estimator-id-77\" class=\"sk-toggleable__label sk-toggleable__label-arrow\">GridSearchCV</label><div class=\"sk-toggleable__content\"><pre>GridSearchCV(cv=15,\n",
       "             estimator=Pipeline(steps=[(&#x27;preprocessor&#x27;,\n",
       "                                        ColumnTransformer(remainder=&#x27;passthrough&#x27;,\n",
       "                                                          transformers=[(&#x27;contDataPipeLine&#x27;,\n",
       "                                                                         Pipeline(steps=[(&#x27;impute&#x27;,\n",
       "                                                                                          SimpleImputer(strategy=&#x27;median&#x27;)),\n",
       "                                                                                         (&#x27;yeoJohnsonTransformation&#x27;,\n",
       "                                                                                          PowerTransformer()),\n",
       "                                                                                         (&#x27;scaler&#x27;,\n",
       "                                                                                          StandardScaler())]),\n",
       "                                                                         [&#x27;age&#x27;,\n",
       "                                                                          &#x27;fare&#x27;]),\n",
       "                                                                        (&#x27;catNominalDataPipeLine&#x27;,\n",
       "                                                                         Pipeline(steps=[(&#x27;impute&#x27;,\n",
       "                                                                                          SimpleI...\n",
       "                                                                          &#x27;embarked&#x27;])])),\n",
       "                                       (&#x27;dtcModel&#x27;, DecisionTreeClassifier())]),\n",
       "             param_grid={&#x27;dtcModel__criterion&#x27;: [&#x27;gini&#x27;, &#x27;entropy&#x27;, &#x27;log_loss&#x27;],\n",
       "                         &#x27;dtcModel__max_depth&#x27;: array([ 2,  3,  4,  5,  6,  7,  8,  9, 10]),\n",
       "                         &#x27;preprocessor__catNominalDataPipeLine__oneHotEncoding__drop&#x27;: [None,\n",
       "                                                                                        &#x27;first&#x27;],\n",
       "                         &#x27;preprocessor__contDataPipeLine__scaler&#x27;: [StandardScaler(),\n",
       "                                                                    RobustScaler(),\n",
       "                                                                    MinMaxScaler()]},\n",
       "             scoring=&#x27;f1&#x27;)</pre></div></div></div><div class=\"sk-parallel\"><div class=\"sk-parallel-item\"><div class=\"sk-item\"><div class=\"sk-label-container\"><div class=\"sk-label sk-toggleable\"><input class=\"sk-toggleable__control sk-hidden--visually\" id=\"sk-estimator-id-78\" type=\"checkbox\" ><label for=\"sk-estimator-id-78\" class=\"sk-toggleable__label sk-toggleable__label-arrow\">estimator: Pipeline</label><div class=\"sk-toggleable__content\"><pre>Pipeline(steps=[(&#x27;preprocessor&#x27;,\n",
       "                 ColumnTransformer(remainder=&#x27;passthrough&#x27;,\n",
       "                                   transformers=[(&#x27;contDataPipeLine&#x27;,\n",
       "                                                  Pipeline(steps=[(&#x27;impute&#x27;,\n",
       "                                                                   SimpleImputer(strategy=&#x27;median&#x27;)),\n",
       "                                                                  (&#x27;yeoJohnsonTransformation&#x27;,\n",
       "                                                                   PowerTransformer()),\n",
       "                                                                  (&#x27;scaler&#x27;,\n",
       "                                                                   StandardScaler())]),\n",
       "                                                  [&#x27;age&#x27;, &#x27;fare&#x27;]),\n",
       "                                                 (&#x27;catNominalDataPipeLine&#x27;,\n",
       "                                                  Pipeline(steps=[(&#x27;impute&#x27;,\n",
       "                                                                   SimpleImputer(strategy=&#x27;most_frequent&#x27;)),\n",
       "                                                                  (&#x27;oneHotEncoding&#x27;,\n",
       "                                                                   OneHotEncoder(handle_unknown=&#x27;ignore&#x27;,\n",
       "                                                                                 sparse_output=False))]),\n",
       "                                                  [&#x27;sex&#x27;, &#x27;embarked&#x27;])])),\n",
       "                (&#x27;dtcModel&#x27;, DecisionTreeClassifier())])</pre></div></div></div><div class=\"sk-serial\"><div class=\"sk-item\"><div class=\"sk-serial\"><div class=\"sk-item sk-dashed-wrapped\"><div class=\"sk-label-container\"><div class=\"sk-label sk-toggleable\"><input class=\"sk-toggleable__control sk-hidden--visually\" id=\"sk-estimator-id-79\" type=\"checkbox\" ><label for=\"sk-estimator-id-79\" class=\"sk-toggleable__label sk-toggleable__label-arrow\">preprocessor: ColumnTransformer</label><div class=\"sk-toggleable__content\"><pre>ColumnTransformer(remainder=&#x27;passthrough&#x27;,\n",
       "                  transformers=[(&#x27;contDataPipeLine&#x27;,\n",
       "                                 Pipeline(steps=[(&#x27;impute&#x27;,\n",
       "                                                  SimpleImputer(strategy=&#x27;median&#x27;)),\n",
       "                                                 (&#x27;yeoJohnsonTransformation&#x27;,\n",
       "                                                  PowerTransformer()),\n",
       "                                                 (&#x27;scaler&#x27;, StandardScaler())]),\n",
       "                                 [&#x27;age&#x27;, &#x27;fare&#x27;]),\n",
       "                                (&#x27;catNominalDataPipeLine&#x27;,\n",
       "                                 Pipeline(steps=[(&#x27;impute&#x27;,\n",
       "                                                  SimpleImputer(strategy=&#x27;most_frequent&#x27;)),\n",
       "                                                 (&#x27;oneHotEncoding&#x27;,\n",
       "                                                  OneHotEncoder(handle_unknown=&#x27;ignore&#x27;,\n",
       "                                                                sparse_output=False))]),\n",
       "                                 [&#x27;sex&#x27;, &#x27;embarked&#x27;])])</pre></div></div></div><div class=\"sk-parallel\"><div class=\"sk-parallel-item\"><div class=\"sk-item\"><div class=\"sk-label-container\"><div class=\"sk-label sk-toggleable\"><input class=\"sk-toggleable__control sk-hidden--visually\" id=\"sk-estimator-id-80\" type=\"checkbox\" ><label for=\"sk-estimator-id-80\" class=\"sk-toggleable__label sk-toggleable__label-arrow\">contDataPipeLine</label><div class=\"sk-toggleable__content\"><pre>[&#x27;age&#x27;, &#x27;fare&#x27;]</pre></div></div></div><div class=\"sk-serial\"><div class=\"sk-item\"><div class=\"sk-serial\"><div class=\"sk-item\"><div class=\"sk-estimator sk-toggleable\"><input class=\"sk-toggleable__control sk-hidden--visually\" id=\"sk-estimator-id-81\" type=\"checkbox\" ><label for=\"sk-estimator-id-81\" class=\"sk-toggleable__label sk-toggleable__label-arrow\">SimpleImputer</label><div class=\"sk-toggleable__content\"><pre>SimpleImputer(strategy=&#x27;median&#x27;)</pre></div></div></div><div class=\"sk-item\"><div class=\"sk-estimator sk-toggleable\"><input class=\"sk-toggleable__control sk-hidden--visually\" id=\"sk-estimator-id-82\" type=\"checkbox\" ><label for=\"sk-estimator-id-82\" class=\"sk-toggleable__label sk-toggleable__label-arrow\">PowerTransformer</label><div class=\"sk-toggleable__content\"><pre>PowerTransformer()</pre></div></div></div><div class=\"sk-item\"><div class=\"sk-estimator sk-toggleable\"><input class=\"sk-toggleable__control sk-hidden--visually\" id=\"sk-estimator-id-83\" type=\"checkbox\" ><label for=\"sk-estimator-id-83\" class=\"sk-toggleable__label sk-toggleable__label-arrow\">StandardScaler</label><div class=\"sk-toggleable__content\"><pre>StandardScaler()</pre></div></div></div></div></div></div></div></div><div class=\"sk-parallel-item\"><div class=\"sk-item\"><div class=\"sk-label-container\"><div class=\"sk-label sk-toggleable\"><input class=\"sk-toggleable__control sk-hidden--visually\" id=\"sk-estimator-id-84\" type=\"checkbox\" ><label for=\"sk-estimator-id-84\" class=\"sk-toggleable__label sk-toggleable__label-arrow\">catNominalDataPipeLine</label><div class=\"sk-toggleable__content\"><pre>[&#x27;sex&#x27;, &#x27;embarked&#x27;]</pre></div></div></div><div class=\"sk-serial\"><div class=\"sk-item\"><div class=\"sk-serial\"><div class=\"sk-item\"><div class=\"sk-estimator sk-toggleable\"><input class=\"sk-toggleable__control sk-hidden--visually\" id=\"sk-estimator-id-85\" type=\"checkbox\" ><label for=\"sk-estimator-id-85\" class=\"sk-toggleable__label sk-toggleable__label-arrow\">SimpleImputer</label><div class=\"sk-toggleable__content\"><pre>SimpleImputer(strategy=&#x27;most_frequent&#x27;)</pre></div></div></div><div class=\"sk-item\"><div class=\"sk-estimator sk-toggleable\"><input class=\"sk-toggleable__control sk-hidden--visually\" id=\"sk-estimator-id-86\" type=\"checkbox\" ><label for=\"sk-estimator-id-86\" class=\"sk-toggleable__label sk-toggleable__label-arrow\">OneHotEncoder</label><div class=\"sk-toggleable__content\"><pre>OneHotEncoder(handle_unknown=&#x27;ignore&#x27;, sparse_output=False)</pre></div></div></div></div></div></div></div></div><div class=\"sk-parallel-item\"><div class=\"sk-item\"><div class=\"sk-label-container\"><div class=\"sk-label sk-toggleable\"><input class=\"sk-toggleable__control sk-hidden--visually\" id=\"sk-estimator-id-87\" type=\"checkbox\" ><label for=\"sk-estimator-id-87\" class=\"sk-toggleable__label sk-toggleable__label-arrow\">remainder</label><div class=\"sk-toggleable__content\"><pre>[&#x27;pclass&#x27;, &#x27;sibsp&#x27;, &#x27;parch&#x27;]</pre></div></div></div><div class=\"sk-serial\"><div class=\"sk-item\"><div class=\"sk-estimator sk-toggleable\"><input class=\"sk-toggleable__control sk-hidden--visually\" id=\"sk-estimator-id-88\" type=\"checkbox\" ><label for=\"sk-estimator-id-88\" class=\"sk-toggleable__label sk-toggleable__label-arrow\">passthrough</label><div class=\"sk-toggleable__content\"><pre>passthrough</pre></div></div></div></div></div></div></div></div><div class=\"sk-item\"><div class=\"sk-estimator sk-toggleable\"><input class=\"sk-toggleable__control sk-hidden--visually\" id=\"sk-estimator-id-89\" type=\"checkbox\" ><label for=\"sk-estimator-id-89\" class=\"sk-toggleable__label sk-toggleable__label-arrow\">DecisionTreeClassifier</label><div class=\"sk-toggleable__content\"><pre>DecisionTreeClassifier()</pre></div></div></div></div></div></div></div></div></div></div></div></div>"
      ],
      "text/plain": [
       "GridSearchCV(cv=15,\n",
       "             estimator=Pipeline(steps=[('preprocessor',\n",
       "                                        ColumnTransformer(remainder='passthrough',\n",
       "                                                          transformers=[('contDataPipeLine',\n",
       "                                                                         Pipeline(steps=[('impute',\n",
       "                                                                                          SimpleImputer(strategy='median')),\n",
       "                                                                                         ('yeoJohnsonTransformation',\n",
       "                                                                                          PowerTransformer()),\n",
       "                                                                                         ('scaler',\n",
       "                                                                                          StandardScaler())]),\n",
       "                                                                         ['age',\n",
       "                                                                          'fare']),\n",
       "                                                                        ('catNominalDataPipeLine',\n",
       "                                                                         Pipeline(steps=[('impute',\n",
       "                                                                                          SimpleI...\n",
       "                                                                          'embarked'])])),\n",
       "                                       ('dtcModel', DecisionTreeClassifier())]),\n",
       "             param_grid={'dtcModel__criterion': ['gini', 'entropy', 'log_loss'],\n",
       "                         'dtcModel__max_depth': array([ 2,  3,  4,  5,  6,  7,  8,  9, 10]),\n",
       "                         'preprocessor__catNominalDataPipeLine__oneHotEncoding__drop': [None,\n",
       "                                                                                        'first'],\n",
       "                         'preprocessor__contDataPipeLine__scaler': [StandardScaler(),\n",
       "                                                                    RobustScaler(),\n",
       "                                                                    MinMaxScaler()]},\n",
       "             scoring='f1')"
      ]
     },
     "execution_count": 57,
     "metadata": {},
     "output_type": "execute_result"
    }
   ],
   "source": [
    "gsDtc.fit(xTrain, yTrain)"
   ]
  },
  {
   "cell_type": "code",
   "execution_count": 58,
   "metadata": {},
   "outputs": [],
   "source": [
    "# To list out the best parameters"
   ]
  },
  {
   "cell_type": "code",
   "execution_count": 59,
   "metadata": {
    "colab": {
     "base_uri": "https://localhost:8080/"
    },
    "id": "EzoeS7qvCsys",
    "outputId": "3f26db9c-6c0d-4688-d48d-c9846222f50f"
   },
   "outputs": [
    {
     "data": {
      "text/plain": [
       "{'dtcModel__criterion': 'gini',\n",
       " 'dtcModel__max_depth': 5,\n",
       " 'preprocessor__catNominalDataPipeLine__oneHotEncoding__drop': 'first',\n",
       " 'preprocessor__contDataPipeLine__scaler': RobustScaler()}"
      ]
     },
     "execution_count": 59,
     "metadata": {},
     "output_type": "execute_result"
    }
   ],
   "source": [
    "gsDtc.best_params_"
   ]
  },
  {
   "cell_type": "code",
   "execution_count": 60,
   "metadata": {
    "id": "OSVl9Cv0HZp2"
   },
   "outputs": [],
   "source": [
    "yTestGsPred = gsDtc.predict(xTest)"
   ]
  },
  {
   "cell_type": "code",
   "execution_count": 61,
   "metadata": {
    "id": "yez_FsJFHu3H"
   },
   "outputs": [],
   "source": [
    "yTrainGsPred = gsDtc.predict(xTrain)"
   ]
  },
  {
   "cell_type": "code",
   "execution_count": 62,
   "metadata": {
    "colab": {
     "base_uri": "https://localhost:8080/"
    },
    "id": "wya7BBEsHzE0",
    "outputId": "4aa44f34-ca79-4659-d7bb-ee7392050eb9"
   },
   "outputs": [
    {
     "data": {
      "text/plain": [
       "0.859504132231405"
      ]
     },
     "execution_count": 62,
     "metadata": {},
     "output_type": "execute_result"
    }
   ],
   "source": [
    "accuracy_score(yTrain, yTrainGsPred)"
   ]
  },
  {
   "cell_type": "code",
   "execution_count": 63,
   "metadata": {
    "colab": {
     "base_uri": "https://localhost:8080/"
    },
    "id": "vjgyo0sPHooe",
    "outputId": "a03a29e8-20ab-4f7f-b570-434556c17dc6"
   },
   "outputs": [
    {
     "data": {
      "text/plain": [
       "0.8251748251748252"
      ]
     },
     "execution_count": 63,
     "metadata": {},
     "output_type": "execute_result"
    }
   ],
   "source": [
    "accuracy_score(yTest, yTestGsPred)"
   ]
  },
  {
   "cell_type": "code",
   "execution_count": 65,
   "metadata": {},
   "outputs": [
    {
     "data": {
      "text/html": [
       "<div>\n",
       "<style scoped>\n",
       "    .dataframe tbody tr th:only-of-type {\n",
       "        vertical-align: middle;\n",
       "    }\n",
       "\n",
       "    .dataframe tbody tr th {\n",
       "        vertical-align: top;\n",
       "    }\n",
       "\n",
       "    .dataframe thead th {\n",
       "        text-align: right;\n",
       "    }\n",
       "</style>\n",
       "<table border=\"1\" class=\"dataframe\">\n",
       "  <thead>\n",
       "    <tr style=\"text-align: right;\">\n",
       "      <th></th>\n",
       "      <th>mean_fit_time</th>\n",
       "      <th>std_fit_time</th>\n",
       "      <th>mean_score_time</th>\n",
       "      <th>std_score_time</th>\n",
       "      <th>param_dtcModel__criterion</th>\n",
       "      <th>param_dtcModel__max_depth</th>\n",
       "      <th>param_preprocessor__catNominalDataPipeLine__oneHotEncoding__drop</th>\n",
       "      <th>param_preprocessor__contDataPipeLine__scaler</th>\n",
       "      <th>params</th>\n",
       "      <th>split0_test_score</th>\n",
       "      <th>...</th>\n",
       "      <th>split8_test_score</th>\n",
       "      <th>split9_test_score</th>\n",
       "      <th>split10_test_score</th>\n",
       "      <th>split11_test_score</th>\n",
       "      <th>split12_test_score</th>\n",
       "      <th>split13_test_score</th>\n",
       "      <th>split14_test_score</th>\n",
       "      <th>mean_test_score</th>\n",
       "      <th>std_test_score</th>\n",
       "      <th>rank_test_score</th>\n",
       "    </tr>\n",
       "  </thead>\n",
       "  <tbody>\n",
       "    <tr>\n",
       "      <th>0</th>\n",
       "      <td>0.034793</td>\n",
       "      <td>0.005606</td>\n",
       "      <td>0.013875</td>\n",
       "      <td>0.004249</td>\n",
       "      <td>gini</td>\n",
       "      <td>2</td>\n",
       "      <td>None</td>\n",
       "      <td>StandardScaler()</td>\n",
       "      <td>{'dtcModel__criterion': 'gini', 'dtcModel__max...</td>\n",
       "      <td>0.689655</td>\n",
       "      <td>...</td>\n",
       "      <td>0.645161</td>\n",
       "      <td>0.666667</td>\n",
       "      <td>0.562500</td>\n",
       "      <td>0.727273</td>\n",
       "      <td>0.666667</td>\n",
       "      <td>0.827586</td>\n",
       "      <td>0.545455</td>\n",
       "      <td>0.662230</td>\n",
       "      <td>0.065489</td>\n",
       "      <td>157</td>\n",
       "    </tr>\n",
       "    <tr>\n",
       "      <th>1</th>\n",
       "      <td>0.036510</td>\n",
       "      <td>0.007767</td>\n",
       "      <td>0.013067</td>\n",
       "      <td>0.005194</td>\n",
       "      <td>gini</td>\n",
       "      <td>2</td>\n",
       "      <td>None</td>\n",
       "      <td>RobustScaler()</td>\n",
       "      <td>{'dtcModel__criterion': 'gini', 'dtcModel__max...</td>\n",
       "      <td>0.689655</td>\n",
       "      <td>...</td>\n",
       "      <td>0.645161</td>\n",
       "      <td>0.666667</td>\n",
       "      <td>0.562500</td>\n",
       "      <td>0.727273</td>\n",
       "      <td>0.666667</td>\n",
       "      <td>0.827586</td>\n",
       "      <td>0.545455</td>\n",
       "      <td>0.662230</td>\n",
       "      <td>0.065489</td>\n",
       "      <td>157</td>\n",
       "    </tr>\n",
       "    <tr>\n",
       "      <th>2</th>\n",
       "      <td>0.032529</td>\n",
       "      <td>0.004467</td>\n",
       "      <td>0.015750</td>\n",
       "      <td>0.001934</td>\n",
       "      <td>gini</td>\n",
       "      <td>2</td>\n",
       "      <td>None</td>\n",
       "      <td>MinMaxScaler()</td>\n",
       "      <td>{'dtcModel__criterion': 'gini', 'dtcModel__max...</td>\n",
       "      <td>0.689655</td>\n",
       "      <td>...</td>\n",
       "      <td>0.645161</td>\n",
       "      <td>0.666667</td>\n",
       "      <td>0.562500</td>\n",
       "      <td>0.727273</td>\n",
       "      <td>0.666667</td>\n",
       "      <td>0.827586</td>\n",
       "      <td>0.545455</td>\n",
       "      <td>0.662230</td>\n",
       "      <td>0.065489</td>\n",
       "      <td>157</td>\n",
       "    </tr>\n",
       "    <tr>\n",
       "      <th>3</th>\n",
       "      <td>0.033881</td>\n",
       "      <td>0.007181</td>\n",
       "      <td>0.012434</td>\n",
       "      <td>0.006276</td>\n",
       "      <td>gini</td>\n",
       "      <td>2</td>\n",
       "      <td>first</td>\n",
       "      <td>StandardScaler()</td>\n",
       "      <td>{'dtcModel__criterion': 'gini', 'dtcModel__max...</td>\n",
       "      <td>0.689655</td>\n",
       "      <td>...</td>\n",
       "      <td>0.645161</td>\n",
       "      <td>0.666667</td>\n",
       "      <td>0.562500</td>\n",
       "      <td>0.727273</td>\n",
       "      <td>0.666667</td>\n",
       "      <td>0.827586</td>\n",
       "      <td>0.545455</td>\n",
       "      <td>0.662230</td>\n",
       "      <td>0.065489</td>\n",
       "      <td>157</td>\n",
       "    </tr>\n",
       "    <tr>\n",
       "      <th>4</th>\n",
       "      <td>0.033503</td>\n",
       "      <td>0.006443</td>\n",
       "      <td>0.016834</td>\n",
       "      <td>0.003059</td>\n",
       "      <td>gini</td>\n",
       "      <td>2</td>\n",
       "      <td>first</td>\n",
       "      <td>RobustScaler()</td>\n",
       "      <td>{'dtcModel__criterion': 'gini', 'dtcModel__max...</td>\n",
       "      <td>0.689655</td>\n",
       "      <td>...</td>\n",
       "      <td>0.645161</td>\n",
       "      <td>0.666667</td>\n",
       "      <td>0.562500</td>\n",
       "      <td>0.727273</td>\n",
       "      <td>0.666667</td>\n",
       "      <td>0.827586</td>\n",
       "      <td>0.545455</td>\n",
       "      <td>0.662230</td>\n",
       "      <td>0.065489</td>\n",
       "      <td>157</td>\n",
       "    </tr>\n",
       "    <tr>\n",
       "      <th>...</th>\n",
       "      <td>...</td>\n",
       "      <td>...</td>\n",
       "      <td>...</td>\n",
       "      <td>...</td>\n",
       "      <td>...</td>\n",
       "      <td>...</td>\n",
       "      <td>...</td>\n",
       "      <td>...</td>\n",
       "      <td>...</td>\n",
       "      <td>...</td>\n",
       "      <td>...</td>\n",
       "      <td>...</td>\n",
       "      <td>...</td>\n",
       "      <td>...</td>\n",
       "      <td>...</td>\n",
       "      <td>...</td>\n",
       "      <td>...</td>\n",
       "      <td>...</td>\n",
       "      <td>...</td>\n",
       "      <td>...</td>\n",
       "      <td>...</td>\n",
       "    </tr>\n",
       "    <tr>\n",
       "      <th>157</th>\n",
       "      <td>0.036102</td>\n",
       "      <td>0.007810</td>\n",
       "      <td>0.015037</td>\n",
       "      <td>0.007011</td>\n",
       "      <td>log_loss</td>\n",
       "      <td>10</td>\n",
       "      <td>None</td>\n",
       "      <td>RobustScaler()</td>\n",
       "      <td>{'dtcModel__criterion': 'log_loss', 'dtcModel_...</td>\n",
       "      <td>0.787879</td>\n",
       "      <td>...</td>\n",
       "      <td>0.645161</td>\n",
       "      <td>0.571429</td>\n",
       "      <td>0.689655</td>\n",
       "      <td>0.866667</td>\n",
       "      <td>0.774194</td>\n",
       "      <td>0.769231</td>\n",
       "      <td>0.740741</td>\n",
       "      <td>0.716784</td>\n",
       "      <td>0.112268</td>\n",
       "      <td>119</td>\n",
       "    </tr>\n",
       "    <tr>\n",
       "      <th>158</th>\n",
       "      <td>0.033991</td>\n",
       "      <td>0.005126</td>\n",
       "      <td>0.016841</td>\n",
       "      <td>0.005373</td>\n",
       "      <td>log_loss</td>\n",
       "      <td>10</td>\n",
       "      <td>None</td>\n",
       "      <td>MinMaxScaler()</td>\n",
       "      <td>{'dtcModel__criterion': 'log_loss', 'dtcModel_...</td>\n",
       "      <td>0.787879</td>\n",
       "      <td>...</td>\n",
       "      <td>0.600000</td>\n",
       "      <td>0.642857</td>\n",
       "      <td>0.705882</td>\n",
       "      <td>0.866667</td>\n",
       "      <td>0.800000</td>\n",
       "      <td>0.769231</td>\n",
       "      <td>0.769231</td>\n",
       "      <td>0.713853</td>\n",
       "      <td>0.112519</td>\n",
       "      <td>126</td>\n",
       "    </tr>\n",
       "    <tr>\n",
       "      <th>159</th>\n",
       "      <td>0.036230</td>\n",
       "      <td>0.005218</td>\n",
       "      <td>0.011099</td>\n",
       "      <td>0.006730</td>\n",
       "      <td>log_loss</td>\n",
       "      <td>10</td>\n",
       "      <td>first</td>\n",
       "      <td>StandardScaler()</td>\n",
       "      <td>{'dtcModel__criterion': 'log_loss', 'dtcModel_...</td>\n",
       "      <td>0.787879</td>\n",
       "      <td>...</td>\n",
       "      <td>0.645161</td>\n",
       "      <td>0.571429</td>\n",
       "      <td>0.727273</td>\n",
       "      <td>0.866667</td>\n",
       "      <td>0.785714</td>\n",
       "      <td>0.769231</td>\n",
       "      <td>0.769231</td>\n",
       "      <td>0.722840</td>\n",
       "      <td>0.106024</td>\n",
       "      <td>91</td>\n",
       "    </tr>\n",
       "    <tr>\n",
       "      <th>160</th>\n",
       "      <td>0.037072</td>\n",
       "      <td>0.006609</td>\n",
       "      <td>0.013761</td>\n",
       "      <td>0.005168</td>\n",
       "      <td>log_loss</td>\n",
       "      <td>10</td>\n",
       "      <td>first</td>\n",
       "      <td>RobustScaler()</td>\n",
       "      <td>{'dtcModel__criterion': 'log_loss', 'dtcModel_...</td>\n",
       "      <td>0.787879</td>\n",
       "      <td>...</td>\n",
       "      <td>0.600000</td>\n",
       "      <td>0.642857</td>\n",
       "      <td>0.714286</td>\n",
       "      <td>0.827586</td>\n",
       "      <td>0.785714</td>\n",
       "      <td>0.769231</td>\n",
       "      <td>0.769231</td>\n",
       "      <td>0.713129</td>\n",
       "      <td>0.111835</td>\n",
       "      <td>129</td>\n",
       "    </tr>\n",
       "    <tr>\n",
       "      <th>161</th>\n",
       "      <td>0.034416</td>\n",
       "      <td>0.007807</td>\n",
       "      <td>0.013877</td>\n",
       "      <td>0.005528</td>\n",
       "      <td>log_loss</td>\n",
       "      <td>10</td>\n",
       "      <td>first</td>\n",
       "      <td>MinMaxScaler()</td>\n",
       "      <td>{'dtcModel__criterion': 'log_loss', 'dtcModel_...</td>\n",
       "      <td>0.787879</td>\n",
       "      <td>...</td>\n",
       "      <td>0.645161</td>\n",
       "      <td>0.571429</td>\n",
       "      <td>0.714286</td>\n",
       "      <td>0.827586</td>\n",
       "      <td>0.814815</td>\n",
       "      <td>0.769231</td>\n",
       "      <td>0.740741</td>\n",
       "      <td>0.717467</td>\n",
       "      <td>0.105985</td>\n",
       "      <td>117</td>\n",
       "    </tr>\n",
       "  </tbody>\n",
       "</table>\n",
       "<p>162 rows × 27 columns</p>\n",
       "</div>"
      ],
      "text/plain": [
       "     mean_fit_time  std_fit_time  mean_score_time  std_score_time  \\\n",
       "0         0.034793      0.005606         0.013875        0.004249   \n",
       "1         0.036510      0.007767         0.013067        0.005194   \n",
       "2         0.032529      0.004467         0.015750        0.001934   \n",
       "3         0.033881      0.007181         0.012434        0.006276   \n",
       "4         0.033503      0.006443         0.016834        0.003059   \n",
       "..             ...           ...              ...             ...   \n",
       "157       0.036102      0.007810         0.015037        0.007011   \n",
       "158       0.033991      0.005126         0.016841        0.005373   \n",
       "159       0.036230      0.005218         0.011099        0.006730   \n",
       "160       0.037072      0.006609         0.013761        0.005168   \n",
       "161       0.034416      0.007807         0.013877        0.005528   \n",
       "\n",
       "    param_dtcModel__criterion param_dtcModel__max_depth  \\\n",
       "0                        gini                         2   \n",
       "1                        gini                         2   \n",
       "2                        gini                         2   \n",
       "3                        gini                         2   \n",
       "4                        gini                         2   \n",
       "..                        ...                       ...   \n",
       "157                  log_loss                        10   \n",
       "158                  log_loss                        10   \n",
       "159                  log_loss                        10   \n",
       "160                  log_loss                        10   \n",
       "161                  log_loss                        10   \n",
       "\n",
       "    param_preprocessor__catNominalDataPipeLine__oneHotEncoding__drop  \\\n",
       "0                                                 None                 \n",
       "1                                                 None                 \n",
       "2                                                 None                 \n",
       "3                                                first                 \n",
       "4                                                first                 \n",
       "..                                                 ...                 \n",
       "157                                               None                 \n",
       "158                                               None                 \n",
       "159                                              first                 \n",
       "160                                              first                 \n",
       "161                                              first                 \n",
       "\n",
       "    param_preprocessor__contDataPipeLine__scaler  \\\n",
       "0                               StandardScaler()   \n",
       "1                                 RobustScaler()   \n",
       "2                                 MinMaxScaler()   \n",
       "3                               StandardScaler()   \n",
       "4                                 RobustScaler()   \n",
       "..                                           ...   \n",
       "157                               RobustScaler()   \n",
       "158                               MinMaxScaler()   \n",
       "159                             StandardScaler()   \n",
       "160                               RobustScaler()   \n",
       "161                               MinMaxScaler()   \n",
       "\n",
       "                                                params  split0_test_score  \\\n",
       "0    {'dtcModel__criterion': 'gini', 'dtcModel__max...           0.689655   \n",
       "1    {'dtcModel__criterion': 'gini', 'dtcModel__max...           0.689655   \n",
       "2    {'dtcModel__criterion': 'gini', 'dtcModel__max...           0.689655   \n",
       "3    {'dtcModel__criterion': 'gini', 'dtcModel__max...           0.689655   \n",
       "4    {'dtcModel__criterion': 'gini', 'dtcModel__max...           0.689655   \n",
       "..                                                 ...                ...   \n",
       "157  {'dtcModel__criterion': 'log_loss', 'dtcModel_...           0.787879   \n",
       "158  {'dtcModel__criterion': 'log_loss', 'dtcModel_...           0.787879   \n",
       "159  {'dtcModel__criterion': 'log_loss', 'dtcModel_...           0.787879   \n",
       "160  {'dtcModel__criterion': 'log_loss', 'dtcModel_...           0.787879   \n",
       "161  {'dtcModel__criterion': 'log_loss', 'dtcModel_...           0.787879   \n",
       "\n",
       "     ...  split8_test_score  split9_test_score  split10_test_score  \\\n",
       "0    ...           0.645161           0.666667            0.562500   \n",
       "1    ...           0.645161           0.666667            0.562500   \n",
       "2    ...           0.645161           0.666667            0.562500   \n",
       "3    ...           0.645161           0.666667            0.562500   \n",
       "4    ...           0.645161           0.666667            0.562500   \n",
       "..   ...                ...                ...                 ...   \n",
       "157  ...           0.645161           0.571429            0.689655   \n",
       "158  ...           0.600000           0.642857            0.705882   \n",
       "159  ...           0.645161           0.571429            0.727273   \n",
       "160  ...           0.600000           0.642857            0.714286   \n",
       "161  ...           0.645161           0.571429            0.714286   \n",
       "\n",
       "     split11_test_score  split12_test_score  split13_test_score  \\\n",
       "0              0.727273            0.666667            0.827586   \n",
       "1              0.727273            0.666667            0.827586   \n",
       "2              0.727273            0.666667            0.827586   \n",
       "3              0.727273            0.666667            0.827586   \n",
       "4              0.727273            0.666667            0.827586   \n",
       "..                  ...                 ...                 ...   \n",
       "157            0.866667            0.774194            0.769231   \n",
       "158            0.866667            0.800000            0.769231   \n",
       "159            0.866667            0.785714            0.769231   \n",
       "160            0.827586            0.785714            0.769231   \n",
       "161            0.827586            0.814815            0.769231   \n",
       "\n",
       "     split14_test_score  mean_test_score  std_test_score  rank_test_score  \n",
       "0              0.545455         0.662230        0.065489              157  \n",
       "1              0.545455         0.662230        0.065489              157  \n",
       "2              0.545455         0.662230        0.065489              157  \n",
       "3              0.545455         0.662230        0.065489              157  \n",
       "4              0.545455         0.662230        0.065489              157  \n",
       "..                  ...              ...             ...              ...  \n",
       "157            0.740741         0.716784        0.112268              119  \n",
       "158            0.769231         0.713853        0.112519              126  \n",
       "159            0.769231         0.722840        0.106024               91  \n",
       "160            0.769231         0.713129        0.111835              129  \n",
       "161            0.740741         0.717467        0.105985              117  \n",
       "\n",
       "[162 rows x 27 columns]"
      ]
     },
     "execution_count": 65,
     "metadata": {},
     "output_type": "execute_result"
    }
   ],
   "source": [
    "# See the results in a Dataframe of Grid Search results\n",
    "gsHyper_df = pd.DataFrame(gsDtc.cv_results_)\n",
    "gsHyper_df"
   ]
  },
  {
   "cell_type": "code",
   "execution_count": 66,
   "metadata": {},
   "outputs": [
    {
     "data": {
      "text/plain": [
       "Index(['mean_fit_time', 'std_fit_time', 'mean_score_time', 'std_score_time',\n",
       "       'param_dtcModel__criterion', 'param_dtcModel__max_depth',\n",
       "       'param_preprocessor__catNominalDataPipeLine__oneHotEncoding__drop',\n",
       "       'param_preprocessor__contDataPipeLine__scaler', 'params',\n",
       "       'split0_test_score', 'split1_test_score', 'split2_test_score',\n",
       "       'split3_test_score', 'split4_test_score', 'split5_test_score',\n",
       "       'split6_test_score', 'split7_test_score', 'split8_test_score',\n",
       "       'split9_test_score', 'split10_test_score', 'split11_test_score',\n",
       "       'split12_test_score', 'split13_test_score', 'split14_test_score',\n",
       "       'mean_test_score', 'std_test_score', 'rank_test_score'],\n",
       "      dtype='object')"
      ]
     },
     "execution_count": 66,
     "metadata": {},
     "output_type": "execute_result"
    }
   ],
   "source": [
    "gsHyper_df.columns"
   ]
  },
  {
   "cell_type": "code",
   "execution_count": 67,
   "metadata": {},
   "outputs": [
    {
     "data": {
      "text/html": [
       "<div>\n",
       "<style scoped>\n",
       "    .dataframe tbody tr th:only-of-type {\n",
       "        vertical-align: middle;\n",
       "    }\n",
       "\n",
       "    .dataframe tbody tr th {\n",
       "        vertical-align: top;\n",
       "    }\n",
       "\n",
       "    .dataframe thead th {\n",
       "        text-align: right;\n",
       "    }\n",
       "</style>\n",
       "<table border=\"1\" class=\"dataframe\">\n",
       "  <thead>\n",
       "    <tr style=\"text-align: right;\">\n",
       "      <th></th>\n",
       "      <th>mean_fit_time</th>\n",
       "      <th>std_fit_time</th>\n",
       "      <th>mean_score_time</th>\n",
       "      <th>std_score_time</th>\n",
       "      <th>param_dtcModel__criterion</th>\n",
       "      <th>param_dtcModel__max_depth</th>\n",
       "      <th>param_preprocessor__catNominalDataPipeLine__oneHotEncoding__drop</th>\n",
       "      <th>param_preprocessor__contDataPipeLine__scaler</th>\n",
       "      <th>params</th>\n",
       "      <th>split0_test_score</th>\n",
       "      <th>...</th>\n",
       "      <th>split8_test_score</th>\n",
       "      <th>split9_test_score</th>\n",
       "      <th>split10_test_score</th>\n",
       "      <th>split11_test_score</th>\n",
       "      <th>split12_test_score</th>\n",
       "      <th>split13_test_score</th>\n",
       "      <th>split14_test_score</th>\n",
       "      <th>mean_test_score</th>\n",
       "      <th>std_test_score</th>\n",
       "      <th>rank_test_score</th>\n",
       "    </tr>\n",
       "  </thead>\n",
       "  <tbody>\n",
       "    <tr>\n",
       "      <th>0</th>\n",
       "      <td>0.034793</td>\n",
       "      <td>0.005606</td>\n",
       "      <td>0.013875</td>\n",
       "      <td>0.004249</td>\n",
       "      <td>gini</td>\n",
       "      <td>2</td>\n",
       "      <td>None</td>\n",
       "      <td>StandardScaler()</td>\n",
       "      <td>{'dtcModel__criterion': 'gini', 'dtcModel__max...</td>\n",
       "      <td>0.689655</td>\n",
       "      <td>...</td>\n",
       "      <td>0.645161</td>\n",
       "      <td>0.666667</td>\n",
       "      <td>0.562500</td>\n",
       "      <td>0.727273</td>\n",
       "      <td>0.666667</td>\n",
       "      <td>0.827586</td>\n",
       "      <td>0.545455</td>\n",
       "      <td>0.662230</td>\n",
       "      <td>0.065489</td>\n",
       "      <td>157</td>\n",
       "    </tr>\n",
       "    <tr>\n",
       "      <th>1</th>\n",
       "      <td>0.036510</td>\n",
       "      <td>0.007767</td>\n",
       "      <td>0.013067</td>\n",
       "      <td>0.005194</td>\n",
       "      <td>gini</td>\n",
       "      <td>2</td>\n",
       "      <td>None</td>\n",
       "      <td>RobustScaler()</td>\n",
       "      <td>{'dtcModel__criterion': 'gini', 'dtcModel__max...</td>\n",
       "      <td>0.689655</td>\n",
       "      <td>...</td>\n",
       "      <td>0.645161</td>\n",
       "      <td>0.666667</td>\n",
       "      <td>0.562500</td>\n",
       "      <td>0.727273</td>\n",
       "      <td>0.666667</td>\n",
       "      <td>0.827586</td>\n",
       "      <td>0.545455</td>\n",
       "      <td>0.662230</td>\n",
       "      <td>0.065489</td>\n",
       "      <td>157</td>\n",
       "    </tr>\n",
       "    <tr>\n",
       "      <th>2</th>\n",
       "      <td>0.032529</td>\n",
       "      <td>0.004467</td>\n",
       "      <td>0.015750</td>\n",
       "      <td>0.001934</td>\n",
       "      <td>gini</td>\n",
       "      <td>2</td>\n",
       "      <td>None</td>\n",
       "      <td>MinMaxScaler()</td>\n",
       "      <td>{'dtcModel__criterion': 'gini', 'dtcModel__max...</td>\n",
       "      <td>0.689655</td>\n",
       "      <td>...</td>\n",
       "      <td>0.645161</td>\n",
       "      <td>0.666667</td>\n",
       "      <td>0.562500</td>\n",
       "      <td>0.727273</td>\n",
       "      <td>0.666667</td>\n",
       "      <td>0.827586</td>\n",
       "      <td>0.545455</td>\n",
       "      <td>0.662230</td>\n",
       "      <td>0.065489</td>\n",
       "      <td>157</td>\n",
       "    </tr>\n",
       "    <tr>\n",
       "      <th>3</th>\n",
       "      <td>0.033881</td>\n",
       "      <td>0.007181</td>\n",
       "      <td>0.012434</td>\n",
       "      <td>0.006276</td>\n",
       "      <td>gini</td>\n",
       "      <td>2</td>\n",
       "      <td>first</td>\n",
       "      <td>StandardScaler()</td>\n",
       "      <td>{'dtcModel__criterion': 'gini', 'dtcModel__max...</td>\n",
       "      <td>0.689655</td>\n",
       "      <td>...</td>\n",
       "      <td>0.645161</td>\n",
       "      <td>0.666667</td>\n",
       "      <td>0.562500</td>\n",
       "      <td>0.727273</td>\n",
       "      <td>0.666667</td>\n",
       "      <td>0.827586</td>\n",
       "      <td>0.545455</td>\n",
       "      <td>0.662230</td>\n",
       "      <td>0.065489</td>\n",
       "      <td>157</td>\n",
       "    </tr>\n",
       "    <tr>\n",
       "      <th>4</th>\n",
       "      <td>0.033503</td>\n",
       "      <td>0.006443</td>\n",
       "      <td>0.016834</td>\n",
       "      <td>0.003059</td>\n",
       "      <td>gini</td>\n",
       "      <td>2</td>\n",
       "      <td>first</td>\n",
       "      <td>RobustScaler()</td>\n",
       "      <td>{'dtcModel__criterion': 'gini', 'dtcModel__max...</td>\n",
       "      <td>0.689655</td>\n",
       "      <td>...</td>\n",
       "      <td>0.645161</td>\n",
       "      <td>0.666667</td>\n",
       "      <td>0.562500</td>\n",
       "      <td>0.727273</td>\n",
       "      <td>0.666667</td>\n",
       "      <td>0.827586</td>\n",
       "      <td>0.545455</td>\n",
       "      <td>0.662230</td>\n",
       "      <td>0.065489</td>\n",
       "      <td>157</td>\n",
       "    </tr>\n",
       "    <tr>\n",
       "      <th>...</th>\n",
       "      <td>...</td>\n",
       "      <td>...</td>\n",
       "      <td>...</td>\n",
       "      <td>...</td>\n",
       "      <td>...</td>\n",
       "      <td>...</td>\n",
       "      <td>...</td>\n",
       "      <td>...</td>\n",
       "      <td>...</td>\n",
       "      <td>...</td>\n",
       "      <td>...</td>\n",
       "      <td>...</td>\n",
       "      <td>...</td>\n",
       "      <td>...</td>\n",
       "      <td>...</td>\n",
       "      <td>...</td>\n",
       "      <td>...</td>\n",
       "      <td>...</td>\n",
       "      <td>...</td>\n",
       "      <td>...</td>\n",
       "      <td>...</td>\n",
       "    </tr>\n",
       "    <tr>\n",
       "      <th>70</th>\n",
       "      <td>0.035232</td>\n",
       "      <td>0.006808</td>\n",
       "      <td>0.015116</td>\n",
       "      <td>0.002022</td>\n",
       "      <td>entropy</td>\n",
       "      <td>4</td>\n",
       "      <td>first</td>\n",
       "      <td>RobustScaler()</td>\n",
       "      <td>{'dtcModel__criterion': 'entropy', 'dtcModel__...</td>\n",
       "      <td>0.733333</td>\n",
       "      <td>...</td>\n",
       "      <td>0.689655</td>\n",
       "      <td>0.727273</td>\n",
       "      <td>0.687500</td>\n",
       "      <td>0.827586</td>\n",
       "      <td>0.857143</td>\n",
       "      <td>0.774194</td>\n",
       "      <td>0.758621</td>\n",
       "      <td>0.753590</td>\n",
       "      <td>0.062761</td>\n",
       "      <td>5</td>\n",
       "    </tr>\n",
       "    <tr>\n",
       "      <th>136</th>\n",
       "      <td>0.036116</td>\n",
       "      <td>0.006712</td>\n",
       "      <td>0.014774</td>\n",
       "      <td>0.002859</td>\n",
       "      <td>log_loss</td>\n",
       "      <td>6</td>\n",
       "      <td>first</td>\n",
       "      <td>RobustScaler()</td>\n",
       "      <td>{'dtcModel__criterion': 'log_loss', 'dtcModel_...</td>\n",
       "      <td>0.812500</td>\n",
       "      <td>...</td>\n",
       "      <td>0.709677</td>\n",
       "      <td>0.666667</td>\n",
       "      <td>0.666667</td>\n",
       "      <td>0.800000</td>\n",
       "      <td>0.896552</td>\n",
       "      <td>0.774194</td>\n",
       "      <td>0.785714</td>\n",
       "      <td>0.754819</td>\n",
       "      <td>0.090080</td>\n",
       "      <td>4</td>\n",
       "    </tr>\n",
       "    <tr>\n",
       "      <th>21</th>\n",
       "      <td>0.032825</td>\n",
       "      <td>0.002829</td>\n",
       "      <td>0.013589</td>\n",
       "      <td>0.005689</td>\n",
       "      <td>gini</td>\n",
       "      <td>5</td>\n",
       "      <td>first</td>\n",
       "      <td>StandardScaler()</td>\n",
       "      <td>{'dtcModel__criterion': 'gini', 'dtcModel__max...</td>\n",
       "      <td>0.764706</td>\n",
       "      <td>...</td>\n",
       "      <td>0.709677</td>\n",
       "      <td>0.689655</td>\n",
       "      <td>0.666667</td>\n",
       "      <td>0.800000</td>\n",
       "      <td>0.827586</td>\n",
       "      <td>0.774194</td>\n",
       "      <td>0.758621</td>\n",
       "      <td>0.755104</td>\n",
       "      <td>0.058494</td>\n",
       "      <td>2</td>\n",
       "    </tr>\n",
       "    <tr>\n",
       "      <th>23</th>\n",
       "      <td>0.034301</td>\n",
       "      <td>0.005580</td>\n",
       "      <td>0.014840</td>\n",
       "      <td>0.004741</td>\n",
       "      <td>gini</td>\n",
       "      <td>5</td>\n",
       "      <td>first</td>\n",
       "      <td>MinMaxScaler()</td>\n",
       "      <td>{'dtcModel__criterion': 'gini', 'dtcModel__max...</td>\n",
       "      <td>0.764706</td>\n",
       "      <td>...</td>\n",
       "      <td>0.709677</td>\n",
       "      <td>0.689655</td>\n",
       "      <td>0.666667</td>\n",
       "      <td>0.800000</td>\n",
       "      <td>0.827586</td>\n",
       "      <td>0.774194</td>\n",
       "      <td>0.758621</td>\n",
       "      <td>0.755104</td>\n",
       "      <td>0.058494</td>\n",
       "      <td>2</td>\n",
       "    </tr>\n",
       "    <tr>\n",
       "      <th>22</th>\n",
       "      <td>0.037501</td>\n",
       "      <td>0.007475</td>\n",
       "      <td>0.013383</td>\n",
       "      <td>0.005333</td>\n",
       "      <td>gini</td>\n",
       "      <td>5</td>\n",
       "      <td>first</td>\n",
       "      <td>RobustScaler()</td>\n",
       "      <td>{'dtcModel__criterion': 'gini', 'dtcModel__max...</td>\n",
       "      <td>0.764706</td>\n",
       "      <td>...</td>\n",
       "      <td>0.733333</td>\n",
       "      <td>0.689655</td>\n",
       "      <td>0.666667</td>\n",
       "      <td>0.800000</td>\n",
       "      <td>0.857143</td>\n",
       "      <td>0.774194</td>\n",
       "      <td>0.758621</td>\n",
       "      <td>0.758651</td>\n",
       "      <td>0.060389</td>\n",
       "      <td>1</td>\n",
       "    </tr>\n",
       "  </tbody>\n",
       "</table>\n",
       "<p>162 rows × 27 columns</p>\n",
       "</div>"
      ],
      "text/plain": [
       "     mean_fit_time  std_fit_time  mean_score_time  std_score_time  \\\n",
       "0         0.034793      0.005606         0.013875        0.004249   \n",
       "1         0.036510      0.007767         0.013067        0.005194   \n",
       "2         0.032529      0.004467         0.015750        0.001934   \n",
       "3         0.033881      0.007181         0.012434        0.006276   \n",
       "4         0.033503      0.006443         0.016834        0.003059   \n",
       "..             ...           ...              ...             ...   \n",
       "70        0.035232      0.006808         0.015116        0.002022   \n",
       "136       0.036116      0.006712         0.014774        0.002859   \n",
       "21        0.032825      0.002829         0.013589        0.005689   \n",
       "23        0.034301      0.005580         0.014840        0.004741   \n",
       "22        0.037501      0.007475         0.013383        0.005333   \n",
       "\n",
       "    param_dtcModel__criterion param_dtcModel__max_depth  \\\n",
       "0                        gini                         2   \n",
       "1                        gini                         2   \n",
       "2                        gini                         2   \n",
       "3                        gini                         2   \n",
       "4                        gini                         2   \n",
       "..                        ...                       ...   \n",
       "70                    entropy                         4   \n",
       "136                  log_loss                         6   \n",
       "21                       gini                         5   \n",
       "23                       gini                         5   \n",
       "22                       gini                         5   \n",
       "\n",
       "    param_preprocessor__catNominalDataPipeLine__oneHotEncoding__drop  \\\n",
       "0                                                 None                 \n",
       "1                                                 None                 \n",
       "2                                                 None                 \n",
       "3                                                first                 \n",
       "4                                                first                 \n",
       "..                                                 ...                 \n",
       "70                                               first                 \n",
       "136                                              first                 \n",
       "21                                               first                 \n",
       "23                                               first                 \n",
       "22                                               first                 \n",
       "\n",
       "    param_preprocessor__contDataPipeLine__scaler  \\\n",
       "0                               StandardScaler()   \n",
       "1                                 RobustScaler()   \n",
       "2                                 MinMaxScaler()   \n",
       "3                               StandardScaler()   \n",
       "4                                 RobustScaler()   \n",
       "..                                           ...   \n",
       "70                                RobustScaler()   \n",
       "136                               RobustScaler()   \n",
       "21                              StandardScaler()   \n",
       "23                                MinMaxScaler()   \n",
       "22                                RobustScaler()   \n",
       "\n",
       "                                                params  split0_test_score  \\\n",
       "0    {'dtcModel__criterion': 'gini', 'dtcModel__max...           0.689655   \n",
       "1    {'dtcModel__criterion': 'gini', 'dtcModel__max...           0.689655   \n",
       "2    {'dtcModel__criterion': 'gini', 'dtcModel__max...           0.689655   \n",
       "3    {'dtcModel__criterion': 'gini', 'dtcModel__max...           0.689655   \n",
       "4    {'dtcModel__criterion': 'gini', 'dtcModel__max...           0.689655   \n",
       "..                                                 ...                ...   \n",
       "70   {'dtcModel__criterion': 'entropy', 'dtcModel__...           0.733333   \n",
       "136  {'dtcModel__criterion': 'log_loss', 'dtcModel_...           0.812500   \n",
       "21   {'dtcModel__criterion': 'gini', 'dtcModel__max...           0.764706   \n",
       "23   {'dtcModel__criterion': 'gini', 'dtcModel__max...           0.764706   \n",
       "22   {'dtcModel__criterion': 'gini', 'dtcModel__max...           0.764706   \n",
       "\n",
       "     ...  split8_test_score  split9_test_score  split10_test_score  \\\n",
       "0    ...           0.645161           0.666667            0.562500   \n",
       "1    ...           0.645161           0.666667            0.562500   \n",
       "2    ...           0.645161           0.666667            0.562500   \n",
       "3    ...           0.645161           0.666667            0.562500   \n",
       "4    ...           0.645161           0.666667            0.562500   \n",
       "..   ...                ...                ...                 ...   \n",
       "70   ...           0.689655           0.727273            0.687500   \n",
       "136  ...           0.709677           0.666667            0.666667   \n",
       "21   ...           0.709677           0.689655            0.666667   \n",
       "23   ...           0.709677           0.689655            0.666667   \n",
       "22   ...           0.733333           0.689655            0.666667   \n",
       "\n",
       "     split11_test_score  split12_test_score  split13_test_score  \\\n",
       "0              0.727273            0.666667            0.827586   \n",
       "1              0.727273            0.666667            0.827586   \n",
       "2              0.727273            0.666667            0.827586   \n",
       "3              0.727273            0.666667            0.827586   \n",
       "4              0.727273            0.666667            0.827586   \n",
       "..                  ...                 ...                 ...   \n",
       "70             0.827586            0.857143            0.774194   \n",
       "136            0.800000            0.896552            0.774194   \n",
       "21             0.800000            0.827586            0.774194   \n",
       "23             0.800000            0.827586            0.774194   \n",
       "22             0.800000            0.857143            0.774194   \n",
       "\n",
       "     split14_test_score  mean_test_score  std_test_score  rank_test_score  \n",
       "0              0.545455         0.662230        0.065489              157  \n",
       "1              0.545455         0.662230        0.065489              157  \n",
       "2              0.545455         0.662230        0.065489              157  \n",
       "3              0.545455         0.662230        0.065489              157  \n",
       "4              0.545455         0.662230        0.065489              157  \n",
       "..                  ...              ...             ...              ...  \n",
       "70             0.758621         0.753590        0.062761                5  \n",
       "136            0.785714         0.754819        0.090080                4  \n",
       "21             0.758621         0.755104        0.058494                2  \n",
       "23             0.758621         0.755104        0.058494                2  \n",
       "22             0.758621         0.758651        0.060389                1  \n",
       "\n",
       "[162 rows x 27 columns]"
      ]
     },
     "execution_count": 67,
     "metadata": {},
     "output_type": "execute_result"
    }
   ],
   "source": [
    "gsHyper_df.sort_values(by=['mean_test_score'])"
   ]
  },
  {
   "cell_type": "code",
   "execution_count": null,
   "metadata": {},
   "outputs": [],
   "source": []
  }
 ],
 "metadata": {
  "colab": {
   "provenance": []
  },
  "kernelspec": {
   "display_name": "Python 3 (ipykernel)",
   "language": "python",
   "name": "python3"
  },
  "language_info": {
   "codemirror_mode": {
    "name": "ipython",
    "version": 3
   },
   "file_extension": ".py",
   "mimetype": "text/x-python",
   "name": "python",
   "nbconvert_exporter": "python",
   "pygments_lexer": "ipython3",
   "version": "3.9.13"
  }
 },
 "nbformat": 4,
 "nbformat_minor": 1
}
